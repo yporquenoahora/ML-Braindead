{
 "cells": [
  {
   "attachments": {},
   "cell_type": "markdown",
   "metadata": {},
   "source": [
    "<h1>Predicción con modelo Catboost</h1>"
   ]
  },
  {
   "cell_type": "code",
   "execution_count": 1,
   "metadata": {},
   "outputs": [
    {
     "name": "stdout",
     "output_type": "stream",
     "text": [
      "Requirement already satisfied: catboost in c:\\python39\\lib\\site-packages (1.1.1)\n",
      "Requirement already satisfied: graphviz in c:\\python39\\lib\\site-packages (from catboost) (0.20.1)\n",
      "Requirement already satisfied: matplotlib in c:\\python39\\lib\\site-packages (from catboost) (3.6.3)\n",
      "Requirement already satisfied: numpy>=1.16.0 in c:\\python39\\lib\\site-packages (from catboost) (1.24.1)\n",
      "Requirement already satisfied: pandas>=0.24.0 in c:\\python39\\lib\\site-packages (from catboost) (1.5.3)\n",
      "Requirement already satisfied: scipy in c:\\python39\\lib\\site-packages (from catboost) (1.10.0)\n",
      "Requirement already satisfied: plotly in c:\\python39\\lib\\site-packages (from catboost) (5.13.1)\n",
      "Requirement already satisfied: six in c:\\python39\\lib\\site-packages (from catboost) (1.16.0)\n",
      "Requirement already satisfied: python-dateutil>=2.8.1 in c:\\python39\\lib\\site-packages (from pandas>=0.24.0->catboost) (2.8.2)\n",
      "Requirement already satisfied: pytz>=2020.1 in c:\\python39\\lib\\site-packages (from pandas>=0.24.0->catboost) (2022.7.1)\n",
      "Requirement already satisfied: contourpy>=1.0.1 in c:\\python39\\lib\\site-packages (from matplotlib->catboost) (1.0.7)\n",
      "Requirement already satisfied: cycler>=0.10 in c:\\python39\\lib\\site-packages (from matplotlib->catboost) (0.11.0)\n",
      "Requirement already satisfied: fonttools>=4.22.0 in c:\\python39\\lib\\site-packages (from matplotlib->catboost) (4.38.0)\n",
      "Requirement already satisfied: kiwisolver>=1.0.1 in c:\\python39\\lib\\site-packages (from matplotlib->catboost) (1.4.4)\n",
      "Requirement already satisfied: packaging>=20.0 in c:\\python39\\lib\\site-packages (from matplotlib->catboost) (23.0)\n",
      "Requirement already satisfied: pillow>=6.2.0 in c:\\python39\\lib\\site-packages (from matplotlib->catboost) (9.4.0)\n",
      "Requirement already satisfied: pyparsing>=2.2.1 in c:\\python39\\lib\\site-packages (from matplotlib->catboost) (3.0.9)\n",
      "Requirement already satisfied: tenacity>=6.2.0 in c:\\python39\\lib\\site-packages (from plotly->catboost) (8.2.2)\n",
      "Note: you may need to restart the kernel to use updated packages.\n"
     ]
    },
    {
     "name": "stderr",
     "output_type": "stream",
     "text": [
      "WARNING: Ignoring invalid distribution - (c:\\python39\\lib\\site-packages)\n",
      "WARNING: Ignoring invalid distribution -ip (c:\\python39\\lib\\site-packages)\n",
      "WARNING: Ignoring invalid distribution - (c:\\python39\\lib\\site-packages)\n",
      "WARNING: Ignoring invalid distribution -ip (c:\\python39\\lib\\site-packages)\n"
     ]
    },
    {
     "name": "stdout",
     "output_type": "stream",
     "text": [
      "Requirement already satisfied: pip in c:\\users\\yporq\\appdata\\roaming\\python\\python39\\site-packages (23.1)\n",
      "Note: you may need to restart the kernel to use updated packages.\n"
     ]
    },
    {
     "name": "stderr",
     "output_type": "stream",
     "text": [
      "WARNING: Ignoring invalid distribution - (c:\\python39\\lib\\site-packages)\n",
      "WARNING: Ignoring invalid distribution -ip (c:\\python39\\lib\\site-packages)\n",
      "WARNING: Ignoring invalid distribution - (c:\\python39\\lib\\site-packages)\n",
      "WARNING: Ignoring invalid distribution -ip (c:\\python39\\lib\\site-packages)\n"
     ]
    },
    {
     "name": "stdout",
     "output_type": "stream",
     "text": [
      "Requirement already satisfied: ipywidgets in c:\\python39\\lib\\site-packages (8.0.6)\n",
      "Requirement already satisfied: ipykernel>=4.5.1 in c:\\users\\yporq\\appdata\\roaming\\python\\python39\\site-packages (from ipywidgets) (6.21.2)\n",
      "Requirement already satisfied: ipython>=6.1.0 in c:\\users\\yporq\\appdata\\roaming\\python\\python39\\site-packages (from ipywidgets) (8.11.0)\n",
      "Requirement already satisfied: traitlets>=4.3.1 in c:\\users\\yporq\\appdata\\roaming\\python\\python39\\site-packages (from ipywidgets) (5.9.0)\n",
      "Requirement already satisfied: widgetsnbextension~=4.0.7 in c:\\python39\\lib\\site-packages (from ipywidgets) (4.0.7)\n",
      "Requirement already satisfied: jupyterlab-widgets~=3.0.7 in c:\\python39\\lib\\site-packages (from ipywidgets) (3.0.7)\n",
      "Requirement already satisfied: comm>=0.1.1 in c:\\users\\yporq\\appdata\\roaming\\python\\python39\\site-packages (from ipykernel>=4.5.1->ipywidgets) (0.1.2)\n",
      "Requirement already satisfied: debugpy>=1.6.5 in c:\\users\\yporq\\appdata\\roaming\\python\\python39\\site-packages (from ipykernel>=4.5.1->ipywidgets) (1.6.6)\n",
      "Requirement already satisfied: jupyter-client>=6.1.12 in c:\\users\\yporq\\appdata\\roaming\\python\\python39\\site-packages (from ipykernel>=4.5.1->ipywidgets) (8.0.3)\n",
      "Requirement already satisfied: jupyter-core!=5.0.*,>=4.12 in c:\\users\\yporq\\appdata\\roaming\\python\\python39\\site-packages (from ipykernel>=4.5.1->ipywidgets) (5.2.0)\n",
      "Requirement already satisfied: matplotlib-inline>=0.1 in c:\\users\\yporq\\appdata\\roaming\\python\\python39\\site-packages (from ipykernel>=4.5.1->ipywidgets) (0.1.6)\n",
      "Requirement already satisfied: nest-asyncio in c:\\users\\yporq\\appdata\\roaming\\python\\python39\\site-packages (from ipykernel>=4.5.1->ipywidgets) (1.5.6)\n",
      "Requirement already satisfied: packaging in c:\\python39\\lib\\site-packages (from ipykernel>=4.5.1->ipywidgets) (23.0)\n",
      "Requirement already satisfied: psutil in c:\\users\\yporq\\appdata\\roaming\\python\\python39\\site-packages (from ipykernel>=4.5.1->ipywidgets) (5.9.4)\n",
      "Requirement already satisfied: pyzmq>=20 in c:\\users\\yporq\\appdata\\roaming\\python\\python39\\site-packages (from ipykernel>=4.5.1->ipywidgets) (25.0.0)\n",
      "Requirement already satisfied: tornado>=6.1 in c:\\users\\yporq\\appdata\\roaming\\python\\python39\\site-packages (from ipykernel>=4.5.1->ipywidgets) (6.2)\n",
      "Requirement already satisfied: backcall in c:\\users\\yporq\\appdata\\roaming\\python\\python39\\site-packages (from ipython>=6.1.0->ipywidgets) (0.2.0)\n",
      "Requirement already satisfied: decorator in c:\\users\\yporq\\appdata\\roaming\\python\\python39\\site-packages (from ipython>=6.1.0->ipywidgets) (5.1.1)\n",
      "Requirement already satisfied: jedi>=0.16 in c:\\users\\yporq\\appdata\\roaming\\python\\python39\\site-packages (from ipython>=6.1.0->ipywidgets) (0.18.2)\n",
      "Requirement already satisfied: pickleshare in c:\\users\\yporq\\appdata\\roaming\\python\\python39\\site-packages (from ipython>=6.1.0->ipywidgets) (0.7.5)\n",
      "Requirement already satisfied: prompt-toolkit!=3.0.37,<3.1.0,>=3.0.30 in c:\\users\\yporq\\appdata\\roaming\\python\\python39\\site-packages (from ipython>=6.1.0->ipywidgets) (3.0.38)\n",
      "Requirement already satisfied: pygments>=2.4.0 in c:\\users\\yporq\\appdata\\roaming\\python\\python39\\site-packages (from ipython>=6.1.0->ipywidgets) (2.14.0)\n",
      "Requirement already satisfied: stack-data in c:\\users\\yporq\\appdata\\roaming\\python\\python39\\site-packages (from ipython>=6.1.0->ipywidgets) (0.6.2)\n",
      "Requirement already satisfied: colorama in c:\\users\\yporq\\appdata\\roaming\\python\\python39\\site-packages (from ipython>=6.1.0->ipywidgets) (0.4.6)\n",
      "Requirement already satisfied: parso<0.9.0,>=0.8.0 in c:\\users\\yporq\\appdata\\roaming\\python\\python39\\site-packages (from jedi>=0.16->ipython>=6.1.0->ipywidgets) (0.8.3)\n",
      "Requirement already satisfied: importlib-metadata>=4.8.3 in c:\\users\\yporq\\appdata\\roaming\\python\\python39\\site-packages (from jupyter-client>=6.1.12->ipykernel>=4.5.1->ipywidgets) (6.0.0)\n",
      "Requirement already satisfied: python-dateutil>=2.8.2 in c:\\python39\\lib\\site-packages (from jupyter-client>=6.1.12->ipykernel>=4.5.1->ipywidgets) (2.8.2)\n",
      "Requirement already satisfied: platformdirs>=2.5 in c:\\users\\yporq\\appdata\\roaming\\python\\python39\\site-packages (from jupyter-core!=5.0.*,>=4.12->ipykernel>=4.5.1->ipywidgets) (3.0.0)\n",
      "Requirement already satisfied: pywin32>=1.0 in c:\\users\\yporq\\appdata\\roaming\\python\\python39\\site-packages (from jupyter-core!=5.0.*,>=4.12->ipykernel>=4.5.1->ipywidgets) (305)\n",
      "Requirement already satisfied: wcwidth in c:\\python39\\lib\\site-packages (from prompt-toolkit!=3.0.37,<3.1.0,>=3.0.30->ipython>=6.1.0->ipywidgets) (0.2.6)\n",
      "Requirement already satisfied: executing>=1.2.0 in c:\\users\\yporq\\appdata\\roaming\\python\\python39\\site-packages (from stack-data->ipython>=6.1.0->ipywidgets) (1.2.0)\n",
      "Requirement already satisfied: asttokens>=2.1.0 in c:\\users\\yporq\\appdata\\roaming\\python\\python39\\site-packages (from stack-data->ipython>=6.1.0->ipywidgets) (2.2.1)\n",
      "Requirement already satisfied: pure-eval in c:\\users\\yporq\\appdata\\roaming\\python\\python39\\site-packages (from stack-data->ipython>=6.1.0->ipywidgets) (0.2.2)\n",
      "Requirement already satisfied: six in c:\\python39\\lib\\site-packages (from asttokens>=2.1.0->stack-data->ipython>=6.1.0->ipywidgets) (1.16.0)\n",
      "Requirement already satisfied: zipp>=0.5 in c:\\users\\yporq\\appdata\\roaming\\python\\python39\\site-packages (from importlib-metadata>=4.8.3->jupyter-client>=6.1.12->ipykernel>=4.5.1->ipywidgets) (3.12.0)\n",
      "Note: you may need to restart the kernel to use updated packages.\n"
     ]
    },
    {
     "name": "stderr",
     "output_type": "stream",
     "text": [
      "WARNING: Ignoring invalid distribution - (c:\\python39\\lib\\site-packages)\n",
      "WARNING: Ignoring invalid distribution -ip (c:\\python39\\lib\\site-packages)\n",
      "WARNING: Ignoring invalid distribution - (c:\\python39\\lib\\site-packages)\n",
      "WARNING: Ignoring invalid distribution -ip (c:\\python39\\lib\\site-packages)\n"
     ]
    },
    {
     "name": "stdout",
     "output_type": "stream",
     "text": [
      "Requirement already satisfied: ipython in c:\\users\\yporq\\appdata\\roaming\\python\\python39\\site-packages (8.11.0)\n",
      "Requirement already satisfied: backcall in c:\\users\\yporq\\appdata\\roaming\\python\\python39\\site-packages (from ipython) (0.2.0)\n",
      "Requirement already satisfied: decorator in c:\\users\\yporq\\appdata\\roaming\\python\\python39\\site-packages (from ipython) (5.1.1)\n",
      "Requirement already satisfied: jedi>=0.16 in c:\\users\\yporq\\appdata\\roaming\\python\\python39\\site-packages (from ipython) (0.18.2)\n",
      "Requirement already satisfied: matplotlib-inline in c:\\users\\yporq\\appdata\\roaming\\python\\python39\\site-packages (from ipython) (0.1.6)\n",
      "Requirement already satisfied: pickleshare in c:\\users\\yporq\\appdata\\roaming\\python\\python39\\site-packages (from ipython) (0.7.5)\n",
      "Requirement already satisfied: prompt-toolkit!=3.0.37,<3.1.0,>=3.0.30 in c:\\users\\yporq\\appdata\\roaming\\python\\python39\\site-packages (from ipython) (3.0.38)\n",
      "Requirement already satisfied: pygments>=2.4.0 in c:\\users\\yporq\\appdata\\roaming\\python\\python39\\site-packages (from ipython) (2.14.0)\n",
      "Requirement already satisfied: stack-data in c:\\users\\yporq\\appdata\\roaming\\python\\python39\\site-packages (from ipython) (0.6.2)\n",
      "Requirement already satisfied: traitlets>=5 in c:\\users\\yporq\\appdata\\roaming\\python\\python39\\site-packages (from ipython) (5.9.0)\n",
      "Requirement already satisfied: colorama in c:\\users\\yporq\\appdata\\roaming\\python\\python39\\site-packages (from ipython) (0.4.6)\n",
      "Requirement already satisfied: parso<0.9.0,>=0.8.0 in c:\\users\\yporq\\appdata\\roaming\\python\\python39\\site-packages (from jedi>=0.16->ipython) (0.8.3)\n",
      "Requirement already satisfied: wcwidth in c:\\python39\\lib\\site-packages (from prompt-toolkit!=3.0.37,<3.1.0,>=3.0.30->ipython) (0.2.6)\n",
      "Requirement already satisfied: executing>=1.2.0 in c:\\users\\yporq\\appdata\\roaming\\python\\python39\\site-packages (from stack-data->ipython) (1.2.0)\n",
      "Requirement already satisfied: asttokens>=2.1.0 in c:\\users\\yporq\\appdata\\roaming\\python\\python39\\site-packages (from stack-data->ipython) (2.2.1)\n",
      "Requirement already satisfied: pure-eval in c:\\users\\yporq\\appdata\\roaming\\python\\python39\\site-packages (from stack-data->ipython) (0.2.2)\n",
      "Requirement already satisfied: six in c:\\python39\\lib\\site-packages (from asttokens>=2.1.0->stack-data->ipython) (1.16.0)\n",
      "Note: you may need to restart the kernel to use updated packages.\n"
     ]
    },
    {
     "name": "stderr",
     "output_type": "stream",
     "text": [
      "WARNING: Ignoring invalid distribution - (c:\\python39\\lib\\site-packages)\n",
      "WARNING: Ignoring invalid distribution -ip (c:\\python39\\lib\\site-packages)\n",
      "WARNING: Ignoring invalid distribution - (c:\\python39\\lib\\site-packages)\n",
      "WARNING: Ignoring invalid distribution -ip (c:\\python39\\lib\\site-packages)\n"
     ]
    },
    {
     "name": "stdout",
     "output_type": "stream",
     "text": [
      "Note: you may need to restart the kernel to use updated packages.\n"
     ]
    },
    {
     "name": "stderr",
     "output_type": "stream",
     "text": [
      "WARNING: Ignoring invalid distribution - (c:\\python39\\lib\\site-packages)\n",
      "WARNING: Ignoring invalid distribution -ip (c:\\python39\\lib\\site-packages)\n",
      "ERROR: Could not find a version that satisfies the requirement catboost-widget (from versions: none)\n",
      "ERROR: No matching distribution found for catboost-widget\n"
     ]
    }
   ],
   "source": [
    "%pip install catboost\n",
    "%pip install --upgrade pip\n",
    "%pip install ipywidgets\n",
    "%pip install ipython\n",
    "%pip install catboost-widget"
   ]
  },
  {
   "cell_type": "code",
   "execution_count": 2,
   "metadata": {},
   "outputs": [],
   "source": [
    "import pandas as pd\n",
    "import numpy as np\n",
    "from sklearn import linear_model\n",
    "from sklearn import model_selection\n",
    "from sklearn.metrics import classification_report\n",
    "from sklearn.metrics import confusion_matrix\n",
    "from sklearn.metrics import accuracy_score\n",
    "import matplotlib.pyplot as plt\n",
    "import seaborn as sns\n",
    "%matplotlib inline"
   ]
  },
  {
   "cell_type": "code",
   "execution_count": 32,
   "metadata": {},
   "outputs": [
    {
     "data": {
      "text/html": [
       "<div>\n",
       "<style scoped>\n",
       "    .dataframe tbody tr th:only-of-type {\n",
       "        vertical-align: middle;\n",
       "    }\n",
       "\n",
       "    .dataframe tbody tr th {\n",
       "        vertical-align: top;\n",
       "    }\n",
       "\n",
       "    .dataframe thead th {\n",
       "        text-align: right;\n",
       "    }\n",
       "</style>\n",
       "<table border=\"1\" class=\"dataframe\">\n",
       "  <thead>\n",
       "    <tr style=\"text-align: right;\">\n",
       "      <th></th>\n",
       "      <th>Unnamed: 0.1</th>\n",
       "      <th>Unnamed: 0</th>\n",
       "      <th>id</th>\n",
       "      <th>adult</th>\n",
       "      <th>release_date</th>\n",
       "      <th>genre_ids</th>\n",
       "      <th>original_title</th>\n",
       "      <th>original_language</th>\n",
       "      <th>title</th>\n",
       "      <th>popularity</th>\n",
       "      <th>...</th>\n",
       "      <th>Acción</th>\n",
       "      <th>Comedia</th>\n",
       "      <th>Historia</th>\n",
       "      <th>Western</th>\n",
       "      <th>Suspense</th>\n",
       "      <th>Crimen</th>\n",
       "      <th>Ciencia ficción</th>\n",
       "      <th>Misterio</th>\n",
       "      <th>Documental</th>\n",
       "      <th>reciente</th>\n",
       "    </tr>\n",
       "  </thead>\n",
       "  <tbody>\n",
       "    <tr>\n",
       "      <th>0</th>\n",
       "      <td>0</td>\n",
       "      <td>0</td>\n",
       "      <td>758323</td>\n",
       "      <td>False</td>\n",
       "      <td>2023-04-14</td>\n",
       "      <td>27-53</td>\n",
       "      <td>The Pope's Exorcist</td>\n",
       "      <td>en</td>\n",
       "      <td>El exorcista del papa</td>\n",
       "      <td>1630.483</td>\n",
       "      <td>...</td>\n",
       "      <td>0</td>\n",
       "      <td>0</td>\n",
       "      <td>0</td>\n",
       "      <td>0</td>\n",
       "      <td>1</td>\n",
       "      <td>0</td>\n",
       "      <td>0</td>\n",
       "      <td>0</td>\n",
       "      <td>0</td>\n",
       "      <td>0</td>\n",
       "    </tr>\n",
       "    <tr>\n",
       "      <th>1</th>\n",
       "      <td>1</td>\n",
       "      <td>1</td>\n",
       "      <td>980078</td>\n",
       "      <td>False</td>\n",
       "      <td>2023-02-15</td>\n",
       "      <td>27-53</td>\n",
       "      <td>Winnie the Pooh: Blood and Honey</td>\n",
       "      <td>en</td>\n",
       "      <td>Winnie the Pooh: Blood and Honey</td>\n",
       "      <td>996.295</td>\n",
       "      <td>...</td>\n",
       "      <td>0</td>\n",
       "      <td>0</td>\n",
       "      <td>0</td>\n",
       "      <td>0</td>\n",
       "      <td>1</td>\n",
       "      <td>0</td>\n",
       "      <td>0</td>\n",
       "      <td>0</td>\n",
       "      <td>0</td>\n",
       "      <td>0</td>\n",
       "    </tr>\n",
       "    <tr>\n",
       "      <th>2</th>\n",
       "      <td>2</td>\n",
       "      <td>2</td>\n",
       "      <td>1084225</td>\n",
       "      <td>False</td>\n",
       "      <td>2023-03-02</td>\n",
       "      <td>28-18-27-878-53</td>\n",
       "      <td>The Park</td>\n",
       "      <td>en</td>\n",
       "      <td>The Park</td>\n",
       "      <td>923.037</td>\n",
       "      <td>...</td>\n",
       "      <td>1</td>\n",
       "      <td>0</td>\n",
       "      <td>0</td>\n",
       "      <td>0</td>\n",
       "      <td>1</td>\n",
       "      <td>0</td>\n",
       "      <td>1</td>\n",
       "      <td>0</td>\n",
       "      <td>0</td>\n",
       "      <td>0</td>\n",
       "    </tr>\n",
       "    <tr>\n",
       "      <th>3</th>\n",
       "      <td>3</td>\n",
       "      <td>3</td>\n",
       "      <td>984105</td>\n",
       "      <td>False</td>\n",
       "      <td>2023-01-10</td>\n",
       "      <td>27</td>\n",
       "      <td>The Mummy Resurrection</td>\n",
       "      <td>en</td>\n",
       "      <td>The Mummy Resurrection</td>\n",
       "      <td>703.369</td>\n",
       "      <td>...</td>\n",
       "      <td>0</td>\n",
       "      <td>0</td>\n",
       "      <td>0</td>\n",
       "      <td>0</td>\n",
       "      <td>0</td>\n",
       "      <td>0</td>\n",
       "      <td>0</td>\n",
       "      <td>0</td>\n",
       "      <td>0</td>\n",
       "      <td>0</td>\n",
       "    </tr>\n",
       "    <tr>\n",
       "      <th>4</th>\n",
       "      <td>4</td>\n",
       "      <td>4</td>\n",
       "      <td>631842</td>\n",
       "      <td>False</td>\n",
       "      <td>2023-02-03</td>\n",
       "      <td>27-9648-53</td>\n",
       "      <td>Knock at the Cabin</td>\n",
       "      <td>en</td>\n",
       "      <td>Llaman a la puerta</td>\n",
       "      <td>687.168</td>\n",
       "      <td>...</td>\n",
       "      <td>0</td>\n",
       "      <td>0</td>\n",
       "      <td>0</td>\n",
       "      <td>0</td>\n",
       "      <td>1</td>\n",
       "      <td>0</td>\n",
       "      <td>0</td>\n",
       "      <td>1</td>\n",
       "      <td>0</td>\n",
       "      <td>0</td>\n",
       "    </tr>\n",
       "  </tbody>\n",
       "</table>\n",
       "<p>5 rows × 41 columns</p>\n",
       "</div>"
      ],
      "text/plain": [
       "   Unnamed: 0.1  Unnamed: 0       id  adult release_date        genre_ids  \\\n",
       "0             0           0   758323  False   2023-04-14            27-53   \n",
       "1             1           1   980078  False   2023-02-15            27-53   \n",
       "2             2           2  1084225  False   2023-03-02  28-18-27-878-53   \n",
       "3             3           3   984105  False   2023-01-10               27   \n",
       "4             4           4   631842  False   2023-02-03       27-9648-53   \n",
       "\n",
       "                     original_title original_language  \\\n",
       "0               The Pope's Exorcist                en   \n",
       "1  Winnie the Pooh: Blood and Honey                en   \n",
       "2                          The Park                en   \n",
       "3            The Mummy Resurrection                en   \n",
       "4                Knock at the Cabin                en   \n",
       "\n",
       "                              title  popularity  ...  Acción  Comedia  \\\n",
       "0             El exorcista del papa    1630.483  ...       0        0   \n",
       "1  Winnie the Pooh: Blood and Honey     996.295  ...       0        0   \n",
       "2                          The Park     923.037  ...       1        0   \n",
       "3            The Mummy Resurrection     703.369  ...       0        0   \n",
       "4                Llaman a la puerta     687.168  ...       0        0   \n",
       "\n",
       "  Historia  Western  Suspense  Crimen Ciencia ficción Misterio  Documental  \\\n",
       "0        0        0         1       0               0        0           0   \n",
       "1        0        0         1       0               0        0           0   \n",
       "2        0        0         1       0               1        0           0   \n",
       "3        0        0         0       0               0        0           0   \n",
       "4        0        0         1       0               0        1           0   \n",
       "\n",
       "   reciente  \n",
       "0         0  \n",
       "1         0  \n",
       "2         0  \n",
       "3         0  \n",
       "4         0  \n",
       "\n",
       "[5 rows x 41 columns]"
      ]
     },
     "execution_count": 32,
     "metadata": {},
     "output_type": "execute_result"
    }
   ],
   "source": [
    "dataframe = pd.read_csv(\"../data/clean_dataset_terror_movies.csv\")\n",
    "dataframe.head()"
   ]
  },
  {
   "cell_type": "code",
   "execution_count": 33,
   "metadata": {},
   "outputs": [
    {
     "ename": "KeyError",
     "evalue": "\"['count_labels'] not in index\"",
     "output_type": "error",
     "traceback": [
      "\u001b[1;31m---------------------------------------------------------------------------\u001b[0m",
      "\u001b[1;31mKeyError\u001b[0m                                  Traceback (most recent call last)",
      "Cell \u001b[1;32mIn[33], line 1\u001b[0m\n\u001b[1;32m----> 1\u001b[0m dataframe \u001b[39m=\u001b[39m dataframe[[\u001b[39m\"\u001b[39;49m\u001b[39mval_count\u001b[39;49m\u001b[39m\"\u001b[39;49m,  \u001b[39m\"\u001b[39;49m\u001b[39mpopularity\u001b[39;49m\u001b[39m\"\u001b[39;49m, \u001b[39m\"\u001b[39;49m\u001b[39mvote_count\u001b[39;49m\u001b[39m\"\u001b[39;49m,   \u001b[39m'\u001b[39;49m\u001b[39mvote_average\u001b[39;49m\u001b[39m'\u001b[39;49m, \u001b[39m'\u001b[39;49m\u001b[39mbudget\u001b[39;49m\u001b[39m'\u001b[39;49m, \u001b[39m'\u001b[39;49m\u001b[39mduration\u001b[39;49m\u001b[39m'\u001b[39;49m, \u001b[39m'\u001b[39;49m\u001b[39mrevenues\u001b[39;49m\u001b[39m'\u001b[39;49m, \u001b[39m'\u001b[39;49m\u001b[39mspoken_languagess\u001b[39;49m\u001b[39m'\u001b[39;49m,  \u001b[39m'\u001b[39;49m\u001b[39mquantile\u001b[39;49m\u001b[39m'\u001b[39;49m, \u001b[39m'\u001b[39;49m\u001b[39mcount_labels\u001b[39;49m\u001b[39m'\u001b[39;49m, \u001b[39m\"\u001b[39;49m\u001b[39mis_terror_comedia\u001b[39;49m\u001b[39m\"\u001b[39;49m, \u001b[39m\"\u001b[39;49m\u001b[39mreciente\u001b[39;49m\u001b[39m\"\u001b[39;49m]]\n\u001b[0;32m      2\u001b[0m dataframe\n",
      "File \u001b[1;32mc:\\Python39\\lib\\site-packages\\pandas\\core\\frame.py:3813\u001b[0m, in \u001b[0;36mDataFrame.__getitem__\u001b[1;34m(self, key)\u001b[0m\n\u001b[0;32m   3811\u001b[0m     \u001b[39mif\u001b[39;00m is_iterator(key):\n\u001b[0;32m   3812\u001b[0m         key \u001b[39m=\u001b[39m \u001b[39mlist\u001b[39m(key)\n\u001b[1;32m-> 3813\u001b[0m     indexer \u001b[39m=\u001b[39m \u001b[39mself\u001b[39;49m\u001b[39m.\u001b[39;49mcolumns\u001b[39m.\u001b[39;49m_get_indexer_strict(key, \u001b[39m\"\u001b[39;49m\u001b[39mcolumns\u001b[39;49m\u001b[39m\"\u001b[39;49m)[\u001b[39m1\u001b[39m]\n\u001b[0;32m   3815\u001b[0m \u001b[39m# take() does not accept boolean indexers\u001b[39;00m\n\u001b[0;32m   3816\u001b[0m \u001b[39mif\u001b[39;00m \u001b[39mgetattr\u001b[39m(indexer, \u001b[39m\"\u001b[39m\u001b[39mdtype\u001b[39m\u001b[39m\"\u001b[39m, \u001b[39mNone\u001b[39;00m) \u001b[39m==\u001b[39m \u001b[39mbool\u001b[39m:\n",
      "File \u001b[1;32mc:\\Python39\\lib\\site-packages\\pandas\\core\\indexes\\base.py:6070\u001b[0m, in \u001b[0;36mIndex._get_indexer_strict\u001b[1;34m(self, key, axis_name)\u001b[0m\n\u001b[0;32m   6067\u001b[0m \u001b[39melse\u001b[39;00m:\n\u001b[0;32m   6068\u001b[0m     keyarr, indexer, new_indexer \u001b[39m=\u001b[39m \u001b[39mself\u001b[39m\u001b[39m.\u001b[39m_reindex_non_unique(keyarr)\n\u001b[1;32m-> 6070\u001b[0m \u001b[39mself\u001b[39;49m\u001b[39m.\u001b[39;49m_raise_if_missing(keyarr, indexer, axis_name)\n\u001b[0;32m   6072\u001b[0m keyarr \u001b[39m=\u001b[39m \u001b[39mself\u001b[39m\u001b[39m.\u001b[39mtake(indexer)\n\u001b[0;32m   6073\u001b[0m \u001b[39mif\u001b[39;00m \u001b[39misinstance\u001b[39m(key, Index):\n\u001b[0;32m   6074\u001b[0m     \u001b[39m# GH 42790 - Preserve name from an Index\u001b[39;00m\n",
      "File \u001b[1;32mc:\\Python39\\lib\\site-packages\\pandas\\core\\indexes\\base.py:6133\u001b[0m, in \u001b[0;36mIndex._raise_if_missing\u001b[1;34m(self, key, indexer, axis_name)\u001b[0m\n\u001b[0;32m   6130\u001b[0m     \u001b[39mraise\u001b[39;00m \u001b[39mKeyError\u001b[39;00m(\u001b[39mf\u001b[39m\u001b[39m\"\u001b[39m\u001b[39mNone of [\u001b[39m\u001b[39m{\u001b[39;00mkey\u001b[39m}\u001b[39;00m\u001b[39m] are in the [\u001b[39m\u001b[39m{\u001b[39;00maxis_name\u001b[39m}\u001b[39;00m\u001b[39m]\u001b[39m\u001b[39m\"\u001b[39m)\n\u001b[0;32m   6132\u001b[0m not_found \u001b[39m=\u001b[39m \u001b[39mlist\u001b[39m(ensure_index(key)[missing_mask\u001b[39m.\u001b[39mnonzero()[\u001b[39m0\u001b[39m]]\u001b[39m.\u001b[39munique())\n\u001b[1;32m-> 6133\u001b[0m \u001b[39mraise\u001b[39;00m \u001b[39mKeyError\u001b[39;00m(\u001b[39mf\u001b[39m\u001b[39m\"\u001b[39m\u001b[39m{\u001b[39;00mnot_found\u001b[39m}\u001b[39;00m\u001b[39m not in index\u001b[39m\u001b[39m\"\u001b[39m)\n",
      "\u001b[1;31mKeyError\u001b[0m: \"['count_labels'] not in index\""
     ]
    }
   ],
   "source": [
    "dataframe = dataframe[[\"val_count\",  \"popularity\", \"vote_count\",   'vote_average', 'budget', 'duration', 'revenues', 'spoken_languagess',  'quantile', 'count_labels', \"is_terror_comedia\", \"reciente\"]]\n",
    "dataframe"
   ]
  },
  {
   "cell_type": "code",
   "execution_count": 5,
   "metadata": {},
   "outputs": [],
   "source": [
    "#dataframe = dataframe[[\"id\", \"genre_list\", \"popularity\"]]\n",
    "#dataframe\n"
   ]
  },
  {
   "cell_type": "code",
   "execution_count": 6,
   "metadata": {},
   "outputs": [],
   "source": [
    "from catboost import CatBoostClassifier, Pool\n",
    "from catboost.utils import eval_metric\n",
    "from sklearn.datasets import make_multilabel_classification\n",
    "from sklearn.model_selection import train_test_split\n"
   ]
  },
  {
   "cell_type": "code",
   "execution_count": 12,
   "metadata": {},
   "outputs": [],
   "source": [
    "from catboost import CatBoostClassifier\n",
    "\n",
    "#X, Y = make_multilabel_classification(n_samples=500, n_features=10, n_classes=5, random_state=0)\n",
    "X = np.array(dataframe[[\"val_count\",  \"popularity\", \"vote_count\",   'vote_average', 'budget', 'duration', 'revenues', 'spoken_languagess',  'quantile', 'count_labels']])\n",
    "Y = np.array(dataframe['is_terror_comedia'])\n",
    "X_train, X_test, Y_train, Y_test = train_test_split(X, Y)\n",
    "\n",
    "#nombres_caracteristicas = X.columns.tolist()\n",
    "\n",
    "# Definir el modelo\n",
    "modelo = CatBoostClassifier(iterations=10, learning_rate=0.1, depth=2,  loss_function='MultiClass',eval_metric='Accuracy')\n"
   ]
  },
  {
   "cell_type": "code",
   "execution_count": 13,
   "metadata": {},
   "outputs": [
    {
     "name": "stdout",
     "output_type": "stream",
     "text": [
      "0:\tlearn: 0.7464000\ttotal: 1.57ms\tremaining: 14.2ms\n",
      "1:\tlearn: 0.7464000\ttotal: 3.07ms\tremaining: 12.3ms\n",
      "2:\tlearn: 0.7464000\ttotal: 4.69ms\tremaining: 10.9ms\n",
      "3:\tlearn: 0.7464000\ttotal: 6.14ms\tremaining: 9.21ms\n",
      "4:\tlearn: 0.8076000\ttotal: 7.47ms\tremaining: 7.47ms\n",
      "5:\tlearn: 0.8076000\ttotal: 9.02ms\tremaining: 6.01ms\n",
      "6:\tlearn: 0.8076000\ttotal: 10.7ms\tremaining: 4.57ms\n",
      "7:\tlearn: 0.8374667\ttotal: 12ms\tremaining: 3ms\n",
      "8:\tlearn: 0.8140000\ttotal: 13.4ms\tremaining: 1.49ms\n",
      "9:\tlearn: 0.8374667\ttotal: 14.8ms\tremaining: 0us\n"
     ]
    },
    {
     "data": {
      "text/plain": [
       "<catboost.core.CatBoostClassifier at 0x27ce9962d60>"
      ]
     },
     "execution_count": 13,
     "metadata": {},
     "output_type": "execute_result"
    }
   ],
   "source": [
    "# Entrenar el modelo\n",
    "modelo.fit(X_train, Y_train)"
   ]
  },
  {
   "cell_type": "code",
   "execution_count": 30,
   "metadata": {},
   "outputs": [
    {
     "ename": "AttributeError",
     "evalue": "'numpy.ndarray' object has no attribute 'columns'",
     "output_type": "error",
     "traceback": [
      "\u001b[1;31m---------------------------------------------------------------------------\u001b[0m",
      "\u001b[1;31mAttributeError\u001b[0m                            Traceback (most recent call last)",
      "Cell \u001b[1;32mIn[30], line 2\u001b[0m\n\u001b[0;32m      1\u001b[0m importances \u001b[39m=\u001b[39m modelo\u001b[39m.\u001b[39mfeature_importances_\n\u001b[1;32m----> 2\u001b[0m feature_names \u001b[39m=\u001b[39m X\u001b[39m.\u001b[39;49mcolumns\n\u001b[0;32m      4\u001b[0m \u001b[39m# Imprimir los nombres de las características junto con sus importancias\u001b[39;00m\n\u001b[0;32m      5\u001b[0m \u001b[39mfor\u001b[39;00m feature_name, importance \u001b[39min\u001b[39;00m \u001b[39mzip\u001b[39m(feature_names, importances):\n",
      "\u001b[1;31mAttributeError\u001b[0m: 'numpy.ndarray' object has no attribute 'columns'"
     ]
    }
   ],
   "source": [
    "importances = modelo.feature_importances_\n",
    "feature_names = X.columns\n",
    "\n",
    "# Imprimir los nombres de las características junto con sus importancias\n",
    "for feature_name, importance in zip(feature_names, importances):\n",
    "    print(feature_name, importance)"
   ]
  },
  {
   "cell_type": "code",
   "execution_count": 14,
   "metadata": {},
   "outputs": [
    {
     "data": {
      "text/html": [
       "<div>\n",
       "<style scoped>\n",
       "    .dataframe tbody tr th:only-of-type {\n",
       "        vertical-align: middle;\n",
       "    }\n",
       "\n",
       "    .dataframe tbody tr th {\n",
       "        vertical-align: top;\n",
       "    }\n",
       "\n",
       "    .dataframe thead th {\n",
       "        text-align: right;\n",
       "    }\n",
       "</style>\n",
       "<table border=\"1\" class=\"dataframe\">\n",
       "  <thead>\n",
       "    <tr style=\"text-align: right;\">\n",
       "      <th></th>\n",
       "      <th>Feature Id</th>\n",
       "      <th>Importances</th>\n",
       "    </tr>\n",
       "  </thead>\n",
       "  <tbody>\n",
       "    <tr>\n",
       "      <th>0</th>\n",
       "      <td>0</td>\n",
       "      <td>53.348727</td>\n",
       "    </tr>\n",
       "    <tr>\n",
       "      <th>1</th>\n",
       "      <td>8</td>\n",
       "      <td>25.294913</td>\n",
       "    </tr>\n",
       "    <tr>\n",
       "      <th>2</th>\n",
       "      <td>9</td>\n",
       "      <td>21.356360</td>\n",
       "    </tr>\n",
       "    <tr>\n",
       "      <th>3</th>\n",
       "      <td>1</td>\n",
       "      <td>0.000000</td>\n",
       "    </tr>\n",
       "    <tr>\n",
       "      <th>4</th>\n",
       "      <td>2</td>\n",
       "      <td>0.000000</td>\n",
       "    </tr>\n",
       "    <tr>\n",
       "      <th>5</th>\n",
       "      <td>3</td>\n",
       "      <td>0.000000</td>\n",
       "    </tr>\n",
       "    <tr>\n",
       "      <th>6</th>\n",
       "      <td>4</td>\n",
       "      <td>0.000000</td>\n",
       "    </tr>\n",
       "    <tr>\n",
       "      <th>7</th>\n",
       "      <td>5</td>\n",
       "      <td>0.000000</td>\n",
       "    </tr>\n",
       "    <tr>\n",
       "      <th>8</th>\n",
       "      <td>6</td>\n",
       "      <td>0.000000</td>\n",
       "    </tr>\n",
       "    <tr>\n",
       "      <th>9</th>\n",
       "      <td>7</td>\n",
       "      <td>0.000000</td>\n",
       "    </tr>\n",
       "  </tbody>\n",
       "</table>\n",
       "</div>"
      ],
      "text/plain": [
       "  Feature Id  Importances\n",
       "0          0    53.348727\n",
       "1          8    25.294913\n",
       "2          9    21.356360\n",
       "3          1     0.000000\n",
       "4          2     0.000000\n",
       "5          3     0.000000\n",
       "6          4     0.000000\n",
       "7          5     0.000000\n",
       "8          6     0.000000\n",
       "9          7     0.000000"
      ]
     },
     "execution_count": 14,
     "metadata": {},
     "output_type": "execute_result"
    }
   ],
   "source": [
    "# Depurar el modelo (15 iterations)\n",
    "modelo.get_feature_importance(prettified=True)"
   ]
  },
  {
   "cell_type": "code",
   "execution_count": 15,
   "metadata": {},
   "outputs": [],
   "source": [
    "#Y_test =Y_test.reset_index(drop=True)"
   ]
  },
  {
   "cell_type": "code",
   "execution_count": 16,
   "metadata": {},
   "outputs": [],
   "source": [
    "test_predict = modelo.predict(X_test)"
   ]
  },
  {
   "cell_type": "code",
   "execution_count": 17,
   "metadata": {},
   "outputs": [
    {
     "name": "stdout",
     "output_type": "stream",
     "text": [
      "Accuracy: [0.8372]\n"
     ]
    }
   ],
   "source": [
    "accuracy = eval_metric(Y_test, test_predict, 'Accuracy')\n",
    "print(f'Accuracy: {accuracy}')"
   ]
  },
  {
   "cell_type": "code",
   "execution_count": 18,
   "metadata": {},
   "outputs": [
    {
     "name": "stdout",
     "output_type": "stream",
     "text": [
      "Accuracy for class 0: 0.8372\n"
     ]
    }
   ],
   "source": [
    "accuracy_per_class = eval_metric(Y_test, test_predict, 'Accuracy:type=PerClass')\n",
    "for cls, value in zip(modelo.classes_, accuracy_per_class):\n",
    "    print(f'Accuracy for class {cls}: {value}')"
   ]
  },
  {
   "cell_type": "code",
   "execution_count": 19,
   "metadata": {},
   "outputs": [
    {
     "name": "stdout",
     "output_type": "stream",
     "text": [
      "HammingLoss: 0.1628\n",
      "MeanAccuracyPerClass: 0.8372\n",
      "HammingLoss + MeanAccuracyPerClass = 1.0\n"
     ]
    }
   ],
   "source": [
    "hamming = eval_metric(Y_test, test_predict, 'HammingLoss')[0]\n",
    "print(f'HammingLoss: {hamming:.4f}')\n",
    "mean_accuracy_per_class = sum(accuracy_per_class) / len(accuracy_per_class)\n",
    "print(f'MeanAccuracyPerClass: {mean_accuracy_per_class:.4f}')\n",
    "print(f'HammingLoss + MeanAccuracyPerClass = {hamming + mean_accuracy_per_class}')"
   ]
  },
  {
   "cell_type": "code",
   "execution_count": 20,
   "metadata": {},
   "outputs": [
    {
     "name": "stdout",
     "output_type": "stream",
     "text": [
      "Precision\n",
      "class=0: 0.9160\n",
      "\n",
      "Recall\n",
      "class=0: 0.6096\n",
      "\n",
      "F1\n",
      "class=0: 0.7321\n",
      "\n"
     ]
    }
   ],
   "source": [
    "for metric in ('Precision', 'Recall', 'F1'):\n",
    "    print(metric)\n",
    "    values = eval_metric(Y_test, test_predict, metric)\n",
    "    for cls, value in zip(modelo.classes_, values):\n",
    "        print(f'class={cls}: {value:.4f}')\n",
    "    print()"
   ]
  },
  {
   "cell_type": "code",
   "execution_count": 21,
   "metadata": {},
   "outputs": [],
   "source": [
    "# Definir el modelo\n",
    "model = CatBoostClassifier(iterations=100, learning_rate=0.05, depth=6, eval_metric='Accuracy')\n"
   ]
  },
  {
   "cell_type": "code",
   "execution_count": 29,
   "metadata": {},
   "outputs": [],
   "source": [
    "#X_train = X_train.reset_index(drop=True)"
   ]
  },
  {
   "cell_type": "code",
   "execution_count": 24,
   "metadata": {},
   "outputs": [],
   "source": [
    "#Y_train =Y_train.reset_index(drop=True)\n"
   ]
  },
  {
   "cell_type": "code",
   "execution_count": 27,
   "metadata": {},
   "outputs": [
    {
     "name": "stdout",
     "output_type": "stream",
     "text": [
      "0:\tlearn: 0.8657333\ttotal: 3.73ms\tremaining: 369ms\n",
      "1:\tlearn: 0.8657333\ttotal: 5.93ms\tremaining: 291ms\n",
      "2:\tlearn: 0.8666667\ttotal: 7.92ms\tremaining: 256ms\n",
      "3:\tlearn: 0.8668000\ttotal: 10.6ms\tremaining: 254ms\n",
      "4:\tlearn: 0.8660000\ttotal: 12.9ms\tremaining: 246ms\n",
      "5:\tlearn: 0.8684000\ttotal: 14.9ms\tremaining: 233ms\n",
      "6:\tlearn: 0.8724000\ttotal: 16.9ms\tremaining: 224ms\n",
      "7:\tlearn: 0.8708000\ttotal: 18.9ms\tremaining: 218ms\n",
      "8:\tlearn: 0.8694667\ttotal: 20.6ms\tremaining: 208ms\n",
      "9:\tlearn: 0.8694667\ttotal: 22.9ms\tremaining: 206ms\n",
      "10:\tlearn: 0.8698667\ttotal: 25.4ms\tremaining: 206ms\n",
      "11:\tlearn: 0.8704000\ttotal: 27.7ms\tremaining: 203ms\n",
      "12:\tlearn: 0.8730667\ttotal: 29.9ms\tremaining: 200ms\n",
      "13:\tlearn: 0.8998667\ttotal: 31.9ms\tremaining: 196ms\n",
      "14:\tlearn: 0.8997333\ttotal: 34.1ms\tremaining: 193ms\n",
      "15:\tlearn: 0.8772000\ttotal: 36.2ms\tremaining: 190ms\n",
      "16:\tlearn: 0.8709333\ttotal: 38.1ms\tremaining: 186ms\n",
      "17:\tlearn: 0.8716000\ttotal: 40.2ms\tremaining: 183ms\n",
      "18:\tlearn: 0.8842667\ttotal: 42.7ms\tremaining: 182ms\n",
      "19:\tlearn: 0.9016000\ttotal: 44.6ms\tremaining: 178ms\n",
      "20:\tlearn: 0.9005333\ttotal: 46.6ms\tremaining: 175ms\n",
      "21:\tlearn: 0.9016000\ttotal: 49.1ms\tremaining: 174ms\n",
      "22:\tlearn: 0.9010667\ttotal: 51.2ms\tremaining: 171ms\n",
      "23:\tlearn: 0.9010667\ttotal: 53ms\tremaining: 168ms\n",
      "24:\tlearn: 0.9009333\ttotal: 55.3ms\tremaining: 166ms\n",
      "25:\tlearn: 0.9009333\ttotal: 57.6ms\tremaining: 164ms\n",
      "26:\tlearn: 0.9008000\ttotal: 59.5ms\tremaining: 161ms\n",
      "27:\tlearn: 0.9014667\ttotal: 61.6ms\tremaining: 158ms\n",
      "28:\tlearn: 0.9009333\ttotal: 63.7ms\tremaining: 156ms\n",
      "29:\tlearn: 0.9008000\ttotal: 65.9ms\tremaining: 154ms\n",
      "30:\tlearn: 0.9009333\ttotal: 67.9ms\tremaining: 151ms\n",
      "31:\tlearn: 0.9014667\ttotal: 69.9ms\tremaining: 148ms\n",
      "32:\tlearn: 0.9014667\ttotal: 72.2ms\tremaining: 147ms\n",
      "33:\tlearn: 0.9016000\ttotal: 74.3ms\tremaining: 144ms\n",
      "34:\tlearn: 0.9008000\ttotal: 76.4ms\tremaining: 142ms\n",
      "35:\tlearn: 0.9005333\ttotal: 78.6ms\tremaining: 140ms\n",
      "36:\tlearn: 0.9005333\ttotal: 81ms\tremaining: 138ms\n",
      "37:\tlearn: 0.9005333\ttotal: 82.9ms\tremaining: 135ms\n",
      "38:\tlearn: 0.9005333\ttotal: 85.1ms\tremaining: 133ms\n",
      "39:\tlearn: 0.9004000\ttotal: 88.1ms\tremaining: 132ms\n",
      "40:\tlearn: 0.9006667\ttotal: 90.2ms\tremaining: 130ms\n",
      "41:\tlearn: 0.9006667\ttotal: 92.5ms\tremaining: 128ms\n",
      "42:\tlearn: 0.9010667\ttotal: 94.6ms\tremaining: 125ms\n",
      "43:\tlearn: 0.9008000\ttotal: 96.8ms\tremaining: 123ms\n",
      "44:\tlearn: 0.9021333\ttotal: 98.8ms\tremaining: 121ms\n",
      "45:\tlearn: 0.9021333\ttotal: 101ms\tremaining: 118ms\n",
      "46:\tlearn: 0.9032000\ttotal: 103ms\tremaining: 116ms\n",
      "47:\tlearn: 0.9026667\ttotal: 106ms\tremaining: 114ms\n",
      "48:\tlearn: 0.9024000\ttotal: 108ms\tremaining: 112ms\n",
      "49:\tlearn: 0.9020000\ttotal: 110ms\tremaining: 110ms\n",
      "50:\tlearn: 0.9022667\ttotal: 112ms\tremaining: 108ms\n",
      "51:\tlearn: 0.9028000\ttotal: 114ms\tremaining: 105ms\n",
      "52:\tlearn: 0.9022667\ttotal: 116ms\tremaining: 103ms\n",
      "53:\tlearn: 0.9017333\ttotal: 118ms\tremaining: 101ms\n",
      "54:\tlearn: 0.9016000\ttotal: 121ms\tremaining: 98.6ms\n",
      "55:\tlearn: 0.9013333\ttotal: 123ms\tremaining: 96.3ms\n",
      "56:\tlearn: 0.9024000\ttotal: 124ms\tremaining: 93.7ms\n",
      "57:\tlearn: 0.9024000\ttotal: 126ms\tremaining: 91.5ms\n",
      "58:\tlearn: 0.9022667\ttotal: 128ms\tremaining: 89.2ms\n",
      "59:\tlearn: 0.9028000\ttotal: 131ms\tremaining: 87.1ms\n",
      "60:\tlearn: 0.9024000\ttotal: 133ms\tremaining: 84.8ms\n",
      "61:\tlearn: 0.9025333\ttotal: 135ms\tremaining: 82.6ms\n",
      "62:\tlearn: 0.9026667\ttotal: 137ms\tremaining: 80.5ms\n",
      "63:\tlearn: 0.9029333\ttotal: 139ms\tremaining: 78.3ms\n",
      "64:\tlearn: 0.9037333\ttotal: 141ms\tremaining: 76ms\n",
      "65:\tlearn: 0.9033333\ttotal: 143ms\tremaining: 73.7ms\n",
      "66:\tlearn: 0.9034667\ttotal: 145ms\tremaining: 71.5ms\n",
      "67:\tlearn: 0.9033333\ttotal: 147ms\tremaining: 69.3ms\n",
      "68:\tlearn: 0.9032000\ttotal: 149ms\tremaining: 67.1ms\n",
      "69:\tlearn: 0.9033333\ttotal: 152ms\tremaining: 65.1ms\n",
      "70:\tlearn: 0.9038667\ttotal: 154ms\tremaining: 62.9ms\n",
      "71:\tlearn: 0.9036000\ttotal: 156ms\tremaining: 60.8ms\n",
      "72:\tlearn: 0.9037333\ttotal: 158ms\tremaining: 58.5ms\n",
      "73:\tlearn: 0.9041333\ttotal: 160ms\tremaining: 56.3ms\n",
      "74:\tlearn: 0.9049333\ttotal: 162ms\tremaining: 54.2ms\n",
      "75:\tlearn: 0.9050667\ttotal: 165ms\tremaining: 52ms\n",
      "76:\tlearn: 0.9048000\ttotal: 167ms\tremaining: 49.9ms\n",
      "77:\tlearn: 0.9060000\ttotal: 170ms\tremaining: 47.8ms\n",
      "78:\tlearn: 0.9056000\ttotal: 172ms\tremaining: 45.6ms\n",
      "79:\tlearn: 0.9060000\ttotal: 174ms\tremaining: 43.5ms\n",
      "80:\tlearn: 0.9061333\ttotal: 176ms\tremaining: 41.3ms\n",
      "81:\tlearn: 0.9061333\ttotal: 178ms\tremaining: 39.2ms\n",
      "82:\tlearn: 0.9064000\ttotal: 181ms\tremaining: 37.1ms\n",
      "83:\tlearn: 0.9096000\ttotal: 184ms\tremaining: 35ms\n",
      "84:\tlearn: 0.9096000\ttotal: 186ms\tremaining: 32.8ms\n",
      "85:\tlearn: 0.9096000\ttotal: 189ms\tremaining: 30.7ms\n",
      "86:\tlearn: 0.9129333\ttotal: 191ms\tremaining: 28.5ms\n",
      "87:\tlearn: 0.9136000\ttotal: 193ms\tremaining: 26.3ms\n",
      "88:\tlearn: 0.9145333\ttotal: 196ms\tremaining: 24.2ms\n",
      "89:\tlearn: 0.9142667\ttotal: 198ms\tremaining: 22ms\n",
      "90:\tlearn: 0.9136000\ttotal: 200ms\tremaining: 19.8ms\n",
      "91:\tlearn: 0.9136000\ttotal: 202ms\tremaining: 17.6ms\n",
      "92:\tlearn: 0.9130667\ttotal: 204ms\tremaining: 15.4ms\n",
      "93:\tlearn: 0.9134667\ttotal: 207ms\tremaining: 13.2ms\n",
      "94:\tlearn: 0.9121333\ttotal: 209ms\tremaining: 11ms\n",
      "95:\tlearn: 0.9152000\ttotal: 211ms\tremaining: 8.8ms\n",
      "96:\tlearn: 0.9152000\ttotal: 214ms\tremaining: 6.62ms\n",
      "97:\tlearn: 0.9157333\ttotal: 216ms\tremaining: 4.42ms\n",
      "98:\tlearn: 0.9156000\ttotal: 219ms\tremaining: 2.21ms\n",
      "99:\tlearn: 0.9170667\ttotal: 221ms\tremaining: 0us\n"
     ]
    },
    {
     "data": {
      "text/plain": [
       "<catboost.core.CatBoostClassifier at 0x27cc69b2c70>"
      ]
     },
     "execution_count": 27,
     "metadata": {},
     "output_type": "execute_result"
    }
   ],
   "source": [
    "# Entrenar el modelo\n",
    "model.fit(X_train, Y_train)#, eval_set=(X_test, Y_test))"
   ]
  },
  {
   "cell_type": "code",
   "execution_count": 28,
   "metadata": {},
   "outputs": [
    {
     "name": "stdout",
     "output_type": "stream",
     "text": [
      "Precisión: 90.80%\n",
      "              precision    recall  f1-score   support\n",
      "\n",
      "           0       0.94      0.92      0.93      1588\n",
      "           1       0.86      0.89      0.88       912\n",
      "\n",
      "    accuracy                           0.91      2500\n",
      "   macro avg       0.90      0.90      0.90      2500\n",
      "weighted avg       0.91      0.91      0.91      2500\n",
      "\n"
     ]
    }
   ],
   "source": [
    "# Realizar predicciones en el conjunto de prueba\n",
    "y_pred = model.predict(X_test)\n",
    "\n",
    "# Evaluar la precisión del modelo\n",
    "accuracy = accuracy_score(Y_test, y_pred)\n",
    "print(\"Precisión: {:.2f}%\".format(accuracy * 100))\n",
    "\n",
    "# Generar un informe de clasificación\n",
    "report = classification_report(Y_test, y_pred)\n",
    "print(report)\n"
   ]
  }
 ],
 "metadata": {
  "kernelspec": {
   "display_name": "Python 3",
   "language": "python",
   "name": "python3"
  },
  "language_info": {
   "codemirror_mode": {
    "name": "ipython",
    "version": 3
   },
   "file_extension": ".py",
   "mimetype": "text/x-python",
   "name": "python",
   "nbconvert_exporter": "python",
   "pygments_lexer": "ipython3",
   "version": "3.9.2"
  },
  "orig_nbformat": 4
 },
 "nbformat": 4,
 "nbformat_minor": 2
}
