{
 "cells": [
  {
   "attachments": {},
   "cell_type": "markdown",
   "metadata": {},
   "source": [
    "### Importa los datos\n"
   ]
  },
  {
   "cell_type": "code",
   "execution_count": 125,
   "metadata": {},
   "outputs": [],
   "source": [
    "import pandas as pd\n",
    "import numpy as np\n",
    "\n",
    "\n",
    "\n",
    "from sklearn.metrics import silhouette_score\n",
    "from kmodes.kmodes import KModes\n"
   ]
  },
  {
   "cell_type": "code",
   "execution_count": 126,
   "metadata": {},
   "outputs": [],
   "source": [
    "import matplotlib.pyplot as plt\n",
    "\n",
    "%matplotlib inline"
   ]
  },
  {
   "cell_type": "code",
   "execution_count": 127,
   "metadata": {},
   "outputs": [],
   "source": [
    "import seaborn as sns"
   ]
  },
  {
   "cell_type": "code",
   "execution_count": 132,
   "metadata": {
    "ExecuteTime": {
     "end_time": "2020-11-17T13:12:49.333104Z",
     "start_time": "2020-11-17T13:12:49.302217Z"
    }
   },
   "outputs": [
    {
     "data": {
      "text/html": [
       "<div>\n",
       "<style scoped>\n",
       "    .dataframe tbody tr th:only-of-type {\n",
       "        vertical-align: middle;\n",
       "    }\n",
       "\n",
       "    .dataframe tbody tr th {\n",
       "        vertical-align: top;\n",
       "    }\n",
       "\n",
       "    .dataframe thead th {\n",
       "        text-align: right;\n",
       "    }\n",
       "</style>\n",
       "<table border=\"1\" class=\"dataframe\">\n",
       "  <thead>\n",
       "    <tr style=\"text-align: right;\">\n",
       "      <th></th>\n",
       "      <th>Unnamed: 0</th>\n",
       "      <th>id</th>\n",
       "      <th>title</th>\n",
       "      <th>quantile</th>\n",
       "      <th>vote_average</th>\n",
       "      <th>duration</th>\n",
       "      <th>popularity</th>\n",
       "      <th>revenues</th>\n",
       "      <th>val_count</th>\n",
       "      <th>is_terror_comedia</th>\n",
       "      <th>Crimen</th>\n",
       "      <th>Animación</th>\n",
       "      <th>Fantasía</th>\n",
       "    </tr>\n",
       "  </thead>\n",
       "  <tbody>\n",
       "    <tr>\n",
       "      <th>0</th>\n",
       "      <td>0</td>\n",
       "      <td>1011679</td>\n",
       "      <td>Shark Side of the Moon</td>\n",
       "      <td>0</td>\n",
       "      <td>5.3</td>\n",
       "      <td>88</td>\n",
       "      <td>456.059</td>\n",
       "      <td>0</td>\n",
       "      <td>3</td>\n",
       "      <td>1</td>\n",
       "      <td>0</td>\n",
       "      <td>0</td>\n",
       "      <td>0</td>\n",
       "    </tr>\n",
       "    <tr>\n",
       "      <th>1</th>\n",
       "      <td>1</td>\n",
       "      <td>884184</td>\n",
       "      <td>Consecration</td>\n",
       "      <td>1</td>\n",
       "      <td>6.6</td>\n",
       "      <td>90</td>\n",
       "      <td>451.660</td>\n",
       "      <td>0</td>\n",
       "      <td>1068</td>\n",
       "      <td>1</td>\n",
       "      <td>0</td>\n",
       "      <td>0</td>\n",
       "      <td>0</td>\n",
       "    </tr>\n",
       "    <tr>\n",
       "      <th>2</th>\n",
       "      <td>2</td>\n",
       "      <td>988165</td>\n",
       "      <td>HP La casa de la bruja de Lovecraft</td>\n",
       "      <td>3</td>\n",
       "      <td>5.8</td>\n",
       "      <td>82</td>\n",
       "      <td>406.610</td>\n",
       "      <td>0</td>\n",
       "      <td>2571</td>\n",
       "      <td>0</td>\n",
       "      <td>0</td>\n",
       "      <td>0</td>\n",
       "      <td>0</td>\n",
       "    </tr>\n",
       "    <tr>\n",
       "      <th>3</th>\n",
       "      <td>3</td>\n",
       "      <td>829410</td>\n",
       "      <td>Sick</td>\n",
       "      <td>1</td>\n",
       "      <td>6.3</td>\n",
       "      <td>83</td>\n",
       "      <td>358.328</td>\n",
       "      <td>0</td>\n",
       "      <td>1068</td>\n",
       "      <td>1</td>\n",
       "      <td>0</td>\n",
       "      <td>0</td>\n",
       "      <td>0</td>\n",
       "    </tr>\n",
       "    <tr>\n",
       "      <th>4</th>\n",
       "      <td>4</td>\n",
       "      <td>676547</td>\n",
       "      <td>Reza por el diablo</td>\n",
       "      <td>1</td>\n",
       "      <td>7.1</td>\n",
       "      <td>93</td>\n",
       "      <td>357.880</td>\n",
       "      <td>37655699</td>\n",
       "      <td>1068</td>\n",
       "      <td>1</td>\n",
       "      <td>0</td>\n",
       "      <td>0</td>\n",
       "      <td>0</td>\n",
       "    </tr>\n",
       "  </tbody>\n",
       "</table>\n",
       "</div>"
      ],
      "text/plain": [
       "   Unnamed: 0       id                                title  quantile  \\\n",
       "0           0  1011679               Shark Side of the Moon         0   \n",
       "1           1   884184                         Consecration         1   \n",
       "2           2   988165  HP La casa de la bruja de Lovecraft         3   \n",
       "3           3   829410                                 Sick         1   \n",
       "4           4   676547                   Reza por el diablo         1   \n",
       "\n",
       "   vote_average  duration  popularity  revenues  val_count  is_terror_comedia  \\\n",
       "0           5.3        88     456.059         0          3                  1   \n",
       "1           6.6        90     451.660         0       1068                  1   \n",
       "2           5.8        82     406.610         0       2571                  0   \n",
       "3           6.3        83     358.328         0       1068                  1   \n",
       "4           7.1        93     357.880  37655699       1068                  1   \n",
       "\n",
       "   Crimen  Animación  Fantasía  \n",
       "0       0          0         0  \n",
       "1       0          0         0  \n",
       "2       0          0         0  \n",
       "3       0          0         0  \n",
       "4       0          0         0  "
      ]
     },
     "execution_count": 132,
     "metadata": {},
     "output_type": "execute_result"
    }
   ],
   "source": [
    "dataframe = pd.read_csv(\"../data/dataset_terror_clean_features.csv\")\n",
    "dataframe.head()"
   ]
  },
  {
   "cell_type": "code",
   "execution_count": 133,
   "metadata": {},
   "outputs": [],
   "source": [
    "dataframe.set_index(\"id\")\n",
    "dataframe = dataframe.iloc[:,1:]"
   ]
  },
  {
   "cell_type": "markdown",
   "metadata": {
    "colab_type": "text",
    "id": "OhaWDPt-8ZlT"
   },
   "source": [
    "### Descriptive Analysis"
   ]
  },
  {
   "cell_type": "markdown",
   "metadata": {},
   "source": [
    "Quedate únicamente con las columnas que podamos manejar: Columnas numéricas y columnas categoricas con pocas categorias (menos de 10)"
   ]
  },
  {
   "cell_type": "code",
   "execution_count": 134,
   "metadata": {},
   "outputs": [],
   "source": [
    "X = dataframe.drop([\"id\",  \"title\", \"is_terror_comedia\"], axis=1)\n",
    "y = dataframe['is_terror_comedia']"
   ]
  },
  {
   "cell_type": "code",
   "execution_count": 135,
   "metadata": {},
   "outputs": [
    {
     "name": "stdout",
     "output_type": "stream",
     "text": [
      "Requirement already satisfied: kmodes in c:\\python39\\lib\\site-packages (0.12.2)\n",
      "Requirement already satisfied: numpy>=1.10.4 in c:\\python39\\lib\\site-packages (from kmodes) (1.24.1)\n",
      "Requirement already satisfied: scikit-learn>=0.22.0 in c:\\python39\\lib\\site-packages (from kmodes) (1.2.2)\n",
      "Requirement already satisfied: scipy>=0.13.3 in c:\\python39\\lib\\site-packages (from kmodes) (1.10.0)\n",
      "Requirement already satisfied: joblib>=0.11 in c:\\python39\\lib\\site-packages (from kmodes) (1.2.0)\n",
      "Requirement already satisfied: threadpoolctl>=2.0.0 in c:\\python39\\lib\\site-packages (from scikit-learn>=0.22.0->kmodes) (3.1.0)\n",
      "Note: you may need to restart the kernel to use updated packages.\n"
     ]
    },
    {
     "name": "stderr",
     "output_type": "stream",
     "text": [
      "WARNING: Ignoring invalid distribution - (c:\\python39\\lib\\site-packages)\n",
      "WARNING: Ignoring invalid distribution -ip (c:\\python39\\lib\\site-packages)\n",
      "WARNING: Ignoring invalid distribution - (c:\\python39\\lib\\site-packages)\n",
      "WARNING: Ignoring invalid distribution -ip (c:\\python39\\lib\\site-packages)\n"
     ]
    }
   ],
   "source": [
    "%pip install kmodes"
   ]
  },
  {
   "cell_type": "markdown",
   "metadata": {
    "colab_type": "text",
    "id": "HtBmwGdNnUGf"
   },
   "source": [
    "#### Evalua cual es la mejor K\n",
    "\n",
    "Utiliza silhouette_score para evaluar cual es la mejor K. Evalua como mucho K = 20"
   ]
  },
  {
   "attachments": {},
   "cell_type": "markdown",
   "metadata": {},
   "source": [
    "#### Genera el KModes"
   ]
  },
  {
   "cell_type": "code",
   "execution_count": 136,
   "metadata": {},
   "outputs": [
    {
     "name": "stdout",
     "output_type": "stream",
     "text": [
      "Initialization method and algorithm are deterministic. Setting n_init to 1.\n",
      "Init: initializing centroids\n",
      "Init: initializing clusters\n",
      "Starting iterations...\n",
      "Run 1, iteration: 1/100, moves: 0, cost: 27107.0\n",
      "Initialization method and algorithm are deterministic. Setting n_init to 1.\n",
      "Init: initializing centroids\n",
      "Init: initializing clusters\n",
      "Starting iterations...\n",
      "Run 1, iteration: 1/100, moves: 74, cost: 24383.0\n",
      "Run 1, iteration: 2/100, moves: 0, cost: 24383.0\n",
      "Initialization method and algorithm are deterministic. Setting n_init to 1.\n",
      "Init: initializing centroids\n",
      "Init: initializing clusters\n",
      "Starting iterations...\n",
      "Run 1, iteration: 1/100, moves: 22, cost: 23213.0\n",
      "Initialization method and algorithm are deterministic. Setting n_init to 1.\n",
      "Init: initializing centroids\n",
      "Init: initializing clusters\n",
      "Starting iterations...\n",
      "Run 1, iteration: 1/100, moves: 391, cost: 22743.0\n",
      "Initialization method and algorithm are deterministic. Setting n_init to 1.\n",
      "Init: initializing centroids\n",
      "Init: initializing clusters\n",
      "Starting iterations...\n",
      "Run 1, iteration: 1/100, moves: 694, cost: 22335.0\n",
      "Initialization method and algorithm are deterministic. Setting n_init to 1.\n",
      "Init: initializing centroids\n",
      "Init: initializing clusters\n",
      "Starting iterations...\n",
      "Run 1, iteration: 1/100, moves: 668, cost: 22242.0\n",
      "Initialization method and algorithm are deterministic. Setting n_init to 1.\n",
      "Init: initializing centroids\n",
      "Init: initializing clusters\n",
      "Starting iterations...\n",
      "Run 1, iteration: 1/100, moves: 650, cost: 22032.0\n",
      "Run 1, iteration: 2/100, moves: 1, cost: 22032.0\n",
      "Initialization method and algorithm are deterministic. Setting n_init to 1.\n",
      "Init: initializing centroids\n",
      "Init: initializing clusters\n",
      "Starting iterations...\n",
      "Run 1, iteration: 1/100, moves: 848, cost: 21735.0\n",
      "Run 1, iteration: 2/100, moves: 1, cost: 21735.0\n",
      "Initialization method and algorithm are deterministic. Setting n_init to 1.\n",
      "Init: initializing centroids\n",
      "Init: initializing clusters\n",
      "Starting iterations...\n",
      "Run 1, iteration: 1/100, moves: 1003, cost: 21508.0\n",
      "Run 1, iteration: 2/100, moves: 1, cost: 21508.0\n",
      "Initialization method and algorithm are deterministic. Setting n_init to 1.\n",
      "Init: initializing centroids\n",
      "Init: initializing clusters\n",
      "Starting iterations...\n",
      "Run 1, iteration: 1/100, moves: 996, cost: 21378.0\n",
      "Run 1, iteration: 2/100, moves: 1, cost: 21378.0\n",
      "Initialization method and algorithm are deterministic. Setting n_init to 1.\n",
      "Init: initializing centroids\n",
      "Init: initializing clusters\n",
      "Starting iterations...\n",
      "Run 1, iteration: 1/100, moves: 987, cost: 21286.0\n",
      "Run 1, iteration: 2/100, moves: 1, cost: 21286.0\n",
      "Initialization method and algorithm are deterministic. Setting n_init to 1.\n",
      "Init: initializing centroids\n",
      "Init: initializing clusters\n",
      "Starting iterations...\n",
      "Run 1, iteration: 1/100, moves: 1108, cost: 21116.0\n",
      "Run 1, iteration: 2/100, moves: 1, cost: 21116.0\n",
      "Initialization method and algorithm are deterministic. Setting n_init to 1.\n",
      "Init: initializing centroids\n",
      "Init: initializing clusters\n",
      "Starting iterations...\n",
      "Run 1, iteration: 1/100, moves: 1104, cost: 20976.0\n",
      "Run 1, iteration: 2/100, moves: 42, cost: 20976.0\n",
      "Initialization method and algorithm are deterministic. Setting n_init to 1.\n",
      "Init: initializing centroids\n",
      "Init: initializing clusters\n",
      "Starting iterations...\n",
      "Run 1, iteration: 1/100, moves: 1094, cost: 20867.0\n",
      "Run 1, iteration: 2/100, moves: 42, cost: 20867.0\n",
      "Initialization method and algorithm are deterministic. Setting n_init to 1.\n",
      "Init: initializing centroids\n",
      "Init: initializing clusters\n",
      "Starting iterations...\n",
      "Run 1, iteration: 1/100, moves: 1085, cost: 20817.0\n",
      "Run 1, iteration: 2/100, moves: 42, cost: 20817.0\n",
      "Initialization method and algorithm are deterministic. Setting n_init to 1.\n",
      "Init: initializing centroids\n",
      "Init: initializing clusters\n",
      "Starting iterations...\n",
      "Run 1, iteration: 1/100, moves: 1167, cost: 20707.0\n",
      "Run 1, iteration: 2/100, moves: 42, cost: 20707.0\n",
      "Initialization method and algorithm are deterministic. Setting n_init to 1.\n",
      "Init: initializing centroids\n",
      "Init: initializing clusters\n",
      "Starting iterations...\n",
      "Run 1, iteration: 1/100, moves: 1162, cost: 20582.0\n",
      "Run 1, iteration: 2/100, moves: 73, cost: 20582.0\n",
      "Initialization method and algorithm are deterministic. Setting n_init to 1.\n",
      "Init: initializing centroids\n",
      "Init: initializing clusters\n",
      "Starting iterations...\n",
      "Run 1, iteration: 1/100, moves: 1155, cost: 20495.0\n",
      "Run 1, iteration: 2/100, moves: 73, cost: 20495.0\n",
      "Initialization method and algorithm are deterministic. Setting n_init to 1.\n",
      "Init: initializing centroids\n",
      "Init: initializing clusters\n",
      "Starting iterations...\n",
      "Run 1, iteration: 1/100, moves: 1150, cost: 20444.0\n",
      "Run 1, iteration: 2/100, moves: 73, cost: 20444.0\n"
     ]
    }
   ],
   "source": [
    "kmeans_per_k = [KModes(n_init=20,n_clusters=k, random_state=42, verbose=1).fit(X,categorical=y) for k in range(1,20)]"
   ]
  },
  {
   "cell_type": "code",
   "execution_count": 137,
   "metadata": {},
   "outputs": [
    {
     "name": "stdout",
     "output_type": "stream",
     "text": [
      "Init: initializing centroids\n",
      "Init: initializing clusters\n",
      "Starting iterations...\n",
      "Run 1, iteration: 1/100, moves: 0, cost: 27107.0\n",
      "Init: initializing centroids\n",
      "Init: initializing clusters\n",
      "Starting iterations...\n",
      "Run 1, iteration: 1/100, moves: 74, cost: 24383.0\n",
      "Run 1, iteration: 2/100, moves: 0, cost: 24383.0\n",
      "Init: initializing centroids\n",
      "Init: initializing clusters\n",
      "Starting iterations...\n",
      "Run 1, iteration: 1/100, moves: 22, cost: 23213.0\n",
      "Init: initializing centroids\n",
      "Init: initializing clusters\n",
      "Starting iterations...\n",
      "Run 1, iteration: 1/100, moves: 391, cost: 22743.0\n",
      "Init: initializing centroids\n",
      "Init: initializing clusters\n",
      "Starting iterations...\n",
      "Run 1, iteration: 1/100, moves: 694, cost: 22335.0\n",
      "Init: initializing centroids\n",
      "Init: initializing clusters\n",
      "Starting iterations...\n",
      "Run 1, iteration: 1/100, moves: 668, cost: 22242.0\n",
      "Init: initializing centroids\n",
      "Init: initializing clusters\n",
      "Starting iterations...\n",
      "Run 1, iteration: 1/100, moves: 650, cost: 22032.0\n",
      "Run 1, iteration: 2/100, moves: 1, cost: 22032.0\n",
      "Init: initializing centroids\n",
      "Init: initializing clusters\n",
      "Starting iterations...\n",
      "Run 1, iteration: 1/100, moves: 848, cost: 21735.0\n",
      "Run 1, iteration: 2/100, moves: 1, cost: 21735.0\n",
      "Init: initializing centroids\n",
      "Init: initializing clusters\n",
      "Starting iterations...\n",
      "Run 1, iteration: 1/100, moves: 1003, cost: 21508.0\n",
      "Run 1, iteration: 2/100, moves: 1, cost: 21508.0\n",
      "Init: initializing centroids\n",
      "Init: initializing clusters\n",
      "Starting iterations...\n",
      "Run 1, iteration: 1/100, moves: 996, cost: 21378.0\n",
      "Run 1, iteration: 2/100, moves: 1, cost: 21378.0\n",
      "Init: initializing centroids\n",
      "Init: initializing clusters\n",
      "Starting iterations...\n",
      "Run 1, iteration: 1/100, moves: 987, cost: 21286.0\n",
      "Run 1, iteration: 2/100, moves: 1, cost: 21286.0\n",
      "Init: initializing centroids\n",
      "Init: initializing clusters\n",
      "Starting iterations...\n",
      "Run 1, iteration: 1/100, moves: 1108, cost: 21116.0\n",
      "Run 1, iteration: 2/100, moves: 1, cost: 21116.0\n",
      "Init: initializing centroids\n",
      "Init: initializing clusters\n",
      "Starting iterations...\n",
      "Run 1, iteration: 1/100, moves: 1104, cost: 20976.0\n",
      "Run 1, iteration: 2/100, moves: 42, cost: 20976.0\n",
      "Init: initializing centroids\n",
      "Init: initializing clusters\n",
      "Starting iterations...\n",
      "Run 1, iteration: 1/100, moves: 1094, cost: 20867.0\n",
      "Run 1, iteration: 2/100, moves: 42, cost: 20867.0\n",
      "Init: initializing centroids\n",
      "Init: initializing clusters\n",
      "Starting iterations...\n",
      "Run 1, iteration: 1/100, moves: 1085, cost: 20817.0\n",
      "Run 1, iteration: 2/100, moves: 42, cost: 20817.0\n",
      "Init: initializing centroids\n",
      "Init: initializing clusters\n",
      "Starting iterations...\n",
      "Run 1, iteration: 1/100, moves: 1167, cost: 20707.0\n",
      "Run 1, iteration: 2/100, moves: 42, cost: 20707.0\n",
      "Init: initializing centroids\n",
      "Init: initializing clusters\n",
      "Starting iterations...\n",
      "Run 1, iteration: 1/100, moves: 1162, cost: 20582.0\n",
      "Run 1, iteration: 2/100, moves: 73, cost: 20582.0\n",
      "Init: initializing centroids\n",
      "Init: initializing clusters\n",
      "Starting iterations...\n",
      "Run 1, iteration: 1/100, moves: 1155, cost: 20495.0\n",
      "Run 1, iteration: 2/100, moves: 73, cost: 20495.0\n",
      "Init: initializing centroids\n",
      "Init: initializing clusters\n",
      "Starting iterations...\n",
      "Run 1, iteration: 1/100, moves: 1150, cost: 20444.0\n",
      "Run 1, iteration: 2/100, moves: 73, cost: 20444.0\n",
      "[[0.000e+00 0.000e+00 9.000e+01 8.400e-01 0.000e+00 2.571e+03 0.000e+00\n",
      "  0.000e+00 0.000e+00]]\n",
      "[[0.000e+00 0.000e+00 9.000e+01 8.400e-01 0.000e+00 1.068e+03 0.000e+00\n",
      "  0.000e+00 0.000e+00]\n",
      " [3.000e+00 0.000e+00 9.000e+01 8.400e-01 0.000e+00 2.571e+03 0.000e+00\n",
      "  0.000e+00 0.000e+00]]\n",
      "[[0.000e+00 0.000e+00 9.000e+01 8.400e-01 0.000e+00 4.350e+02 0.000e+00\n",
      "  0.000e+00 0.000e+00]\n",
      " [3.000e+00 0.000e+00 9.000e+01 8.400e-01 0.000e+00 2.571e+03 0.000e+00\n",
      "  0.000e+00 0.000e+00]\n",
      " [1.000e+00 5.300e+00 9.000e+01 8.400e-01 0.000e+00 1.068e+03 0.000e+00\n",
      "  0.000e+00 0.000e+00]]\n",
      "[[0.000e+00 0.000e+00 9.000e+01 8.400e-01 0.000e+00 4.350e+02 0.000e+00\n",
      "  0.000e+00 0.000e+00]\n",
      " [3.000e+00 0.000e+00 9.000e+01 8.400e-01 0.000e+00 2.571e+03 0.000e+00\n",
      "  0.000e+00 0.000e+00]\n",
      " [1.000e+00 5.300e+00 9.000e+01 8.400e-01 0.000e+00 1.068e+03 0.000e+00\n",
      "  0.000e+00 0.000e+00]\n",
      " [0.000e+00 5.600e+00 8.500e+01 4.893e+00 0.000e+00 3.070e+02 0.000e+00\n",
      "  0.000e+00 0.000e+00]]\n",
      "[[0.000e+00 0.000e+00 9.000e+01 8.400e-01 0.000e+00 4.350e+02 0.000e+00\n",
      "  0.000e+00 0.000e+00]\n",
      " [3.000e+00 0.000e+00 9.000e+01 8.400e-01 0.000e+00 2.571e+03 0.000e+00\n",
      "  0.000e+00 0.000e+00]\n",
      " [1.000e+00 5.300e+00 9.000e+01 8.400e-01 0.000e+00 1.068e+03 0.000e+00\n",
      "  0.000e+00 0.000e+00]\n",
      " [0.000e+00 5.600e+00 8.500e+01 4.893e+00 0.000e+00 3.070e+02 0.000e+00\n",
      "  0.000e+00 0.000e+00]\n",
      " [0.000e+00 6.000e+00 9.100e+01 9.697e+00 0.000e+00 3.120e+02 0.000e+00\n",
      "  0.000e+00 0.000e+00]]\n",
      "[[0.000e+00 0.000e+00 9.000e+01 8.400e-01 0.000e+00 4.350e+02 0.000e+00\n",
      "  0.000e+00 0.000e+00]\n",
      " [3.000e+00 0.000e+00 9.000e+01 8.400e-01 0.000e+00 2.571e+03 0.000e+00\n",
      "  0.000e+00 0.000e+00]\n",
      " [1.000e+00 5.300e+00 9.000e+01 8.400e-01 0.000e+00 1.068e+03 0.000e+00\n",
      "  0.000e+00 0.000e+00]\n",
      " [0.000e+00 5.600e+00 8.500e+01 4.893e+00 0.000e+00 3.070e+02 0.000e+00\n",
      "  0.000e+00 0.000e+00]\n",
      " [0.000e+00 6.000e+00 9.100e+01 9.697e+00 0.000e+00 3.120e+02 0.000e+00\n",
      "  0.000e+00 0.000e+00]\n",
      " [0.000e+00 4.000e+00 8.500e+01 1.337e+00 0.000e+00 3.120e+02 0.000e+00\n",
      "  0.000e+00 0.000e+00]]\n",
      "[[0.000e+00 0.000e+00 9.000e+01 8.400e-01 0.000e+00 4.350e+02 0.000e+00\n",
      "  0.000e+00 0.000e+00]\n",
      " [3.000e+00 0.000e+00 9.000e+01 8.400e-01 0.000e+00 2.571e+03 0.000e+00\n",
      "  0.000e+00 0.000e+00]\n",
      " [1.000e+00 5.300e+00 9.000e+01 8.400e-01 0.000e+00 1.068e+03 0.000e+00\n",
      "  0.000e+00 0.000e+00]\n",
      " [0.000e+00 5.600e+00 8.500e+01 4.972e+00 0.000e+00 3.070e+02 0.000e+00\n",
      "  0.000e+00 0.000e+00]\n",
      " [0.000e+00 6.000e+00 9.100e+01 9.697e+00 0.000e+00 3.120e+02 0.000e+00\n",
      "  0.000e+00 0.000e+00]\n",
      " [0.000e+00 4.000e+00 8.500e+01 1.337e+00 0.000e+00 3.120e+02 0.000e+00\n",
      "  0.000e+00 0.000e+00]\n",
      " [0.000e+00 5.000e+00 8.700e+01 1.310e+00 0.000e+00 3.070e+02 0.000e+00\n",
      "  0.000e+00 0.000e+00]]\n",
      "[[0.000e+00 0.000e+00 9.000e+01 8.400e-01 0.000e+00 4.350e+02 0.000e+00\n",
      "  0.000e+00 0.000e+00]\n",
      " [3.000e+00 0.000e+00 9.000e+01 8.400e-01 0.000e+00 2.571e+03 0.000e+00\n",
      "  0.000e+00 0.000e+00]\n",
      " [1.000e+00 5.300e+00 9.000e+01 8.400e-01 0.000e+00 1.068e+03 0.000e+00\n",
      "  0.000e+00 0.000e+00]\n",
      " [0.000e+00 5.600e+00 8.500e+01 4.972e+00 0.000e+00 3.070e+02 0.000e+00\n",
      "  0.000e+00 0.000e+00]\n",
      " [0.000e+00 6.000e+00 9.100e+01 9.697e+00 0.000e+00 3.120e+02 0.000e+00\n",
      "  0.000e+00 0.000e+00]\n",
      " [0.000e+00 4.000e+00 8.500e+01 1.337e+00 0.000e+00 3.120e+02 0.000e+00\n",
      "  0.000e+00 0.000e+00]\n",
      " [0.000e+00 5.000e+00 8.700e+01 1.310e+00 0.000e+00 3.070e+02 0.000e+00\n",
      "  0.000e+00 0.000e+00]\n",
      " [0.000e+00 5.500e+00 8.900e+01 1.879e+00 0.000e+00 2.540e+02 0.000e+00\n",
      "  0.000e+00 0.000e+00]]\n",
      "[[0.000e+00 0.000e+00 9.000e+01 8.400e-01 0.000e+00 4.350e+02 0.000e+00\n",
      "  0.000e+00 0.000e+00]\n",
      " [3.000e+00 0.000e+00 9.000e+01 8.400e-01 0.000e+00 2.571e+03 0.000e+00\n",
      "  0.000e+00 0.000e+00]\n",
      " [1.000e+00 5.300e+00 9.000e+01 8.400e-01 0.000e+00 1.068e+03 0.000e+00\n",
      "  0.000e+00 0.000e+00]\n",
      " [0.000e+00 5.600e+00 8.500e+01 4.972e+00 0.000e+00 3.070e+02 0.000e+00\n",
      "  0.000e+00 0.000e+00]\n",
      " [0.000e+00 6.000e+00 9.100e+01 9.697e+00 0.000e+00 3.120e+02 0.000e+00\n",
      "  0.000e+00 0.000e+00]\n",
      " [0.000e+00 4.000e+00 8.500e+01 1.337e+00 0.000e+00 3.120e+02 0.000e+00\n",
      "  0.000e+00 0.000e+00]\n",
      " [0.000e+00 5.000e+00 8.700e+01 1.310e+00 0.000e+00 3.070e+02 0.000e+00\n",
      "  0.000e+00 0.000e+00]\n",
      " [0.000e+00 5.500e+00 8.900e+01 1.879e+00 0.000e+00 2.540e+02 0.000e+00\n",
      "  0.000e+00 0.000e+00]\n",
      " [0.000e+00 5.300e+00 8.800e+01 3.035e+00 0.000e+00 3.000e+00 0.000e+00\n",
      "  0.000e+00 0.000e+00]]\n",
      "[[0.000e+00 0.000e+00 9.000e+01 8.400e-01 0.000e+00 4.350e+02 0.000e+00\n",
      "  0.000e+00 0.000e+00]\n",
      " [3.000e+00 0.000e+00 9.000e+01 8.400e-01 0.000e+00 2.571e+03 0.000e+00\n",
      "  0.000e+00 0.000e+00]\n",
      " [1.000e+00 5.300e+00 9.000e+01 8.400e-01 0.000e+00 1.068e+03 0.000e+00\n",
      "  0.000e+00 0.000e+00]\n",
      " [0.000e+00 5.600e+00 8.500e+01 4.972e+00 0.000e+00 3.070e+02 0.000e+00\n",
      "  0.000e+00 0.000e+00]\n",
      " [0.000e+00 6.000e+00 9.100e+01 9.697e+00 0.000e+00 3.120e+02 0.000e+00\n",
      "  0.000e+00 0.000e+00]\n",
      " [0.000e+00 4.000e+00 8.500e+01 1.337e+00 0.000e+00 3.120e+02 0.000e+00\n",
      "  0.000e+00 0.000e+00]\n",
      " [0.000e+00 5.000e+00 8.700e+01 1.310e+00 0.000e+00 3.070e+02 0.000e+00\n",
      "  0.000e+00 0.000e+00]\n",
      " [0.000e+00 5.500e+00 8.900e+01 1.879e+00 0.000e+00 2.540e+02 0.000e+00\n",
      "  0.000e+00 0.000e+00]\n",
      " [0.000e+00 5.300e+00 8.800e+01 3.035e+00 0.000e+00 3.000e+00 0.000e+00\n",
      "  0.000e+00 0.000e+00]\n",
      " [0.000e+00 5.200e+00 8.000e+01 2.153e+00 0.000e+00 2.540e+02 0.000e+00\n",
      "  0.000e+00 0.000e+00]]\n",
      "[[0.000e+00 0.000e+00 9.000e+01 8.400e-01 0.000e+00 4.350e+02 0.000e+00\n",
      "  0.000e+00 0.000e+00]\n",
      " [3.000e+00 0.000e+00 9.000e+01 8.400e-01 0.000e+00 2.571e+03 0.000e+00\n",
      "  0.000e+00 0.000e+00]\n",
      " [1.000e+00 5.300e+00 9.000e+01 8.400e-01 0.000e+00 1.068e+03 0.000e+00\n",
      "  0.000e+00 0.000e+00]\n",
      " [0.000e+00 5.600e+00 8.500e+01 4.972e+00 0.000e+00 3.070e+02 0.000e+00\n",
      "  0.000e+00 0.000e+00]\n",
      " [0.000e+00 6.000e+00 9.100e+01 9.697e+00 0.000e+00 3.120e+02 0.000e+00\n",
      "  0.000e+00 0.000e+00]\n",
      " [0.000e+00 4.000e+00 8.500e+01 1.337e+00 0.000e+00 3.120e+02 0.000e+00\n",
      "  0.000e+00 0.000e+00]\n",
      " [0.000e+00 5.000e+00 8.700e+01 1.310e+00 0.000e+00 3.070e+02 0.000e+00\n",
      "  0.000e+00 0.000e+00]\n",
      " [0.000e+00 5.500e+00 8.900e+01 1.879e+00 0.000e+00 2.540e+02 0.000e+00\n",
      "  0.000e+00 0.000e+00]\n",
      " [0.000e+00 5.300e+00 8.800e+01 3.035e+00 0.000e+00 3.000e+00 0.000e+00\n",
      "  0.000e+00 0.000e+00]\n",
      " [0.000e+00 5.200e+00 8.000e+01 2.153e+00 0.000e+00 2.540e+02 0.000e+00\n",
      "  0.000e+00 0.000e+00]\n",
      " [0.000e+00 6.000e+00 8.900e+01 1.966e+00 0.000e+00 2.000e+00 0.000e+00\n",
      "  0.000e+00 0.000e+00]]\n",
      "[[0.000e+00 0.000e+00 9.000e+01 8.400e-01 0.000e+00 4.350e+02 0.000e+00\n",
      "  0.000e+00 0.000e+00]\n",
      " [3.000e+00 0.000e+00 9.000e+01 8.400e-01 0.000e+00 2.571e+03 0.000e+00\n",
      "  0.000e+00 0.000e+00]\n",
      " [1.000e+00 5.300e+00 9.000e+01 8.400e-01 0.000e+00 1.068e+03 0.000e+00\n",
      "  0.000e+00 0.000e+00]\n",
      " [0.000e+00 5.600e+00 8.500e+01 4.972e+00 0.000e+00 3.070e+02 0.000e+00\n",
      "  0.000e+00 0.000e+00]\n",
      " [0.000e+00 6.000e+00 9.100e+01 9.697e+00 0.000e+00 3.120e+02 0.000e+00\n",
      "  0.000e+00 0.000e+00]\n",
      " [0.000e+00 4.000e+00 8.500e+01 1.337e+00 0.000e+00 3.120e+02 0.000e+00\n",
      "  0.000e+00 0.000e+00]\n",
      " [0.000e+00 5.000e+00 8.700e+01 1.310e+00 0.000e+00 3.070e+02 0.000e+00\n",
      "  0.000e+00 0.000e+00]\n",
      " [0.000e+00 5.500e+00 8.900e+01 1.879e+00 0.000e+00 2.540e+02 0.000e+00\n",
      "  0.000e+00 0.000e+00]\n",
      " [0.000e+00 5.300e+00 8.800e+01 3.035e+00 0.000e+00 3.000e+00 0.000e+00\n",
      "  0.000e+00 0.000e+00]\n",
      " [0.000e+00 5.200e+00 8.000e+01 2.153e+00 0.000e+00 2.540e+02 0.000e+00\n",
      "  0.000e+00 0.000e+00]\n",
      " [0.000e+00 6.000e+00 8.900e+01 1.966e+00 0.000e+00 2.000e+00 0.000e+00\n",
      "  0.000e+00 0.000e+00]\n",
      " [0.000e+00 5.400e+00 8.600e+01 1.730e+00 0.000e+00 4.000e+00 0.000e+00\n",
      "  0.000e+00 0.000e+00]]\n",
      "[[0.000e+00 0.000e+00 9.000e+01 8.400e-01 0.000e+00 4.350e+02 0.000e+00\n",
      "  0.000e+00 0.000e+00]\n",
      " [3.000e+00 0.000e+00 9.000e+01 8.400e-01 0.000e+00 2.571e+03 0.000e+00\n",
      "  0.000e+00 0.000e+00]\n",
      " [1.000e+00 5.300e+00 9.000e+01 8.400e-01 0.000e+00 1.068e+03 0.000e+00\n",
      "  0.000e+00 0.000e+00]\n",
      " [0.000e+00 5.600e+00 8.500e+01 4.972e+00 0.000e+00 3.070e+02 0.000e+00\n",
      "  0.000e+00 0.000e+00]\n",
      " [0.000e+00 6.000e+00 9.100e+01 9.697e+00 0.000e+00 3.120e+02 0.000e+00\n",
      "  0.000e+00 0.000e+00]\n",
      " [0.000e+00 4.000e+00 8.500e+01 1.337e+00 0.000e+00 3.120e+02 0.000e+00\n",
      "  0.000e+00 0.000e+00]\n",
      " [0.000e+00 5.000e+00 8.700e+01 1.310e+00 0.000e+00 3.070e+02 0.000e+00\n",
      "  0.000e+00 0.000e+00]\n",
      " [0.000e+00 5.500e+00 8.900e+01 1.879e+00 0.000e+00 2.540e+02 0.000e+00\n",
      "  0.000e+00 0.000e+00]\n",
      " [0.000e+00 5.300e+00 8.800e+01 3.035e+00 0.000e+00 3.000e+00 0.000e+00\n",
      "  0.000e+00 0.000e+00]\n",
      " [0.000e+00 5.200e+00 8.000e+01 2.153e+00 0.000e+00 2.540e+02 0.000e+00\n",
      "  0.000e+00 0.000e+00]\n",
      " [0.000e+00 6.000e+00 8.900e+01 1.966e+00 0.000e+00 2.000e+00 0.000e+00\n",
      "  0.000e+00 0.000e+00]\n",
      " [0.000e+00 5.400e+00 8.600e+01 1.730e+00 0.000e+00 4.000e+00 0.000e+00\n",
      "  0.000e+00 0.000e+00]\n",
      " [0.000e+00 4.800e+00 8.200e+01 8.400e-01 0.000e+00 3.780e+02 0.000e+00\n",
      "  0.000e+00 0.000e+00]]\n",
      "[[0.000e+00 0.000e+00 9.000e+01 8.400e-01 0.000e+00 4.350e+02 0.000e+00\n",
      "  0.000e+00 0.000e+00]\n",
      " [3.000e+00 0.000e+00 9.000e+01 8.400e-01 0.000e+00 2.571e+03 0.000e+00\n",
      "  0.000e+00 0.000e+00]\n",
      " [1.000e+00 5.300e+00 9.000e+01 8.400e-01 0.000e+00 1.068e+03 0.000e+00\n",
      "  0.000e+00 0.000e+00]\n",
      " [0.000e+00 5.600e+00 8.500e+01 4.972e+00 0.000e+00 3.070e+02 0.000e+00\n",
      "  0.000e+00 0.000e+00]\n",
      " [0.000e+00 6.000e+00 9.100e+01 9.697e+00 0.000e+00 3.120e+02 0.000e+00\n",
      "  0.000e+00 0.000e+00]\n",
      " [0.000e+00 4.000e+00 8.500e+01 1.337e+00 0.000e+00 3.120e+02 0.000e+00\n",
      "  0.000e+00 0.000e+00]\n",
      " [0.000e+00 5.000e+00 8.700e+01 1.310e+00 0.000e+00 3.070e+02 0.000e+00\n",
      "  0.000e+00 0.000e+00]\n",
      " [0.000e+00 5.500e+00 8.900e+01 1.879e+00 0.000e+00 2.540e+02 0.000e+00\n",
      "  0.000e+00 0.000e+00]\n",
      " [0.000e+00 5.300e+00 8.800e+01 3.035e+00 0.000e+00 3.000e+00 0.000e+00\n",
      "  0.000e+00 0.000e+00]\n",
      " [0.000e+00 5.200e+00 8.000e+01 2.153e+00 0.000e+00 2.540e+02 0.000e+00\n",
      "  0.000e+00 0.000e+00]\n",
      " [0.000e+00 6.000e+00 8.900e+01 1.966e+00 0.000e+00 2.000e+00 0.000e+00\n",
      "  0.000e+00 0.000e+00]\n",
      " [0.000e+00 5.400e+00 8.600e+01 1.730e+00 0.000e+00 4.000e+00 0.000e+00\n",
      "  0.000e+00 0.000e+00]\n",
      " [0.000e+00 4.800e+00 8.200e+01 8.400e-01 0.000e+00 3.780e+02 0.000e+00\n",
      "  0.000e+00 0.000e+00]\n",
      " [0.000e+00 5.800e+00 9.200e+01 3.708e+00 0.000e+00 3.000e+00 0.000e+00\n",
      "  0.000e+00 0.000e+00]]\n",
      "[[0.000e+00 0.000e+00 9.000e+01 8.400e-01 0.000e+00 4.350e+02 0.000e+00\n",
      "  0.000e+00 0.000e+00]\n",
      " [3.000e+00 0.000e+00 9.000e+01 8.400e-01 0.000e+00 2.571e+03 0.000e+00\n",
      "  0.000e+00 0.000e+00]\n",
      " [1.000e+00 5.300e+00 9.000e+01 8.400e-01 0.000e+00 1.068e+03 0.000e+00\n",
      "  0.000e+00 0.000e+00]\n",
      " [0.000e+00 5.600e+00 8.500e+01 4.972e+00 0.000e+00 3.070e+02 0.000e+00\n",
      "  0.000e+00 0.000e+00]\n",
      " [0.000e+00 6.000e+00 9.100e+01 9.697e+00 0.000e+00 3.120e+02 0.000e+00\n",
      "  0.000e+00 0.000e+00]\n",
      " [0.000e+00 4.000e+00 8.500e+01 1.337e+00 0.000e+00 3.120e+02 0.000e+00\n",
      "  0.000e+00 0.000e+00]\n",
      " [0.000e+00 5.000e+00 8.700e+01 1.310e+00 0.000e+00 3.070e+02 0.000e+00\n",
      "  0.000e+00 0.000e+00]\n",
      " [0.000e+00 5.500e+00 8.900e+01 1.879e+00 0.000e+00 2.540e+02 0.000e+00\n",
      "  0.000e+00 0.000e+00]\n",
      " [0.000e+00 5.300e+00 8.800e+01 3.035e+00 0.000e+00 3.000e+00 0.000e+00\n",
      "  0.000e+00 0.000e+00]\n",
      " [0.000e+00 5.200e+00 8.000e+01 2.153e+00 0.000e+00 2.540e+02 0.000e+00\n",
      "  0.000e+00 0.000e+00]\n",
      " [0.000e+00 6.000e+00 8.900e+01 1.966e+00 0.000e+00 2.000e+00 0.000e+00\n",
      "  0.000e+00 0.000e+00]\n",
      " [0.000e+00 5.400e+00 8.600e+01 1.730e+00 0.000e+00 4.000e+00 0.000e+00\n",
      "  0.000e+00 0.000e+00]\n",
      " [0.000e+00 4.800e+00 8.200e+01 8.400e-01 0.000e+00 3.780e+02 0.000e+00\n",
      "  0.000e+00 0.000e+00]\n",
      " [0.000e+00 5.800e+00 9.200e+01 3.708e+00 0.000e+00 3.000e+00 0.000e+00\n",
      "  0.000e+00 0.000e+00]\n",
      " [0.000e+00 5.500e+00 9.100e+01 8.400e-01 0.000e+00 4.100e+01 0.000e+00\n",
      "  0.000e+00 0.000e+00]]\n",
      "[[0.000e+00 0.000e+00 9.000e+01 8.400e-01 0.000e+00 4.350e+02 0.000e+00\n",
      "  0.000e+00 0.000e+00]\n",
      " [3.000e+00 0.000e+00 9.000e+01 8.400e-01 0.000e+00 2.571e+03 0.000e+00\n",
      "  0.000e+00 0.000e+00]\n",
      " [1.000e+00 5.300e+00 9.000e+01 8.400e-01 0.000e+00 1.068e+03 0.000e+00\n",
      "  0.000e+00 0.000e+00]\n",
      " [0.000e+00 5.600e+00 8.500e+01 4.972e+00 0.000e+00 3.070e+02 0.000e+00\n",
      "  0.000e+00 0.000e+00]\n",
      " [0.000e+00 6.000e+00 9.100e+01 9.697e+00 0.000e+00 3.120e+02 0.000e+00\n",
      "  0.000e+00 0.000e+00]\n",
      " [0.000e+00 4.000e+00 8.500e+01 1.337e+00 0.000e+00 3.120e+02 0.000e+00\n",
      "  0.000e+00 0.000e+00]\n",
      " [0.000e+00 5.000e+00 8.700e+01 1.310e+00 0.000e+00 3.070e+02 0.000e+00\n",
      "  0.000e+00 0.000e+00]\n",
      " [0.000e+00 5.500e+00 8.900e+01 1.879e+00 0.000e+00 2.540e+02 0.000e+00\n",
      "  0.000e+00 0.000e+00]\n",
      " [0.000e+00 5.300e+00 8.800e+01 3.035e+00 0.000e+00 3.000e+00 0.000e+00\n",
      "  0.000e+00 0.000e+00]\n",
      " [0.000e+00 5.200e+00 8.000e+01 2.153e+00 0.000e+00 2.540e+02 0.000e+00\n",
      "  0.000e+00 0.000e+00]\n",
      " [0.000e+00 6.000e+00 8.900e+01 1.966e+00 0.000e+00 2.000e+00 0.000e+00\n",
      "  0.000e+00 0.000e+00]\n",
      " [0.000e+00 5.400e+00 8.600e+01 1.730e+00 0.000e+00 4.000e+00 0.000e+00\n",
      "  0.000e+00 0.000e+00]\n",
      " [0.000e+00 4.800e+00 8.200e+01 8.400e-01 0.000e+00 3.780e+02 0.000e+00\n",
      "  0.000e+00 0.000e+00]\n",
      " [0.000e+00 5.800e+00 9.200e+01 3.708e+00 0.000e+00 3.000e+00 0.000e+00\n",
      "  0.000e+00 0.000e+00]\n",
      " [0.000e+00 5.500e+00 9.100e+01 8.400e-01 0.000e+00 4.100e+01 0.000e+00\n",
      "  0.000e+00 0.000e+00]\n",
      " [0.000e+00 4.900e+00 8.400e+01 3.381e+00 0.000e+00 1.620e+02 0.000e+00\n",
      "  0.000e+00 0.000e+00]]\n",
      "[[0.000e+00 0.000e+00 9.000e+01 8.400e-01 0.000e+00 4.350e+02 0.000e+00\n",
      "  0.000e+00 0.000e+00]\n",
      " [3.000e+00 0.000e+00 9.000e+01 8.400e-01 0.000e+00 2.571e+03 0.000e+00\n",
      "  0.000e+00 0.000e+00]\n",
      " [1.000e+00 5.300e+00 9.000e+01 8.400e-01 0.000e+00 1.068e+03 0.000e+00\n",
      "  0.000e+00 0.000e+00]\n",
      " [0.000e+00 5.600e+00 8.500e+01 4.972e+00 0.000e+00 3.070e+02 0.000e+00\n",
      "  0.000e+00 0.000e+00]\n",
      " [0.000e+00 6.000e+00 9.100e+01 9.697e+00 0.000e+00 3.120e+02 0.000e+00\n",
      "  0.000e+00 0.000e+00]\n",
      " [0.000e+00 4.000e+00 8.500e+01 1.337e+00 0.000e+00 3.120e+02 0.000e+00\n",
      "  0.000e+00 0.000e+00]\n",
      " [0.000e+00 5.000e+00 8.700e+01 1.310e+00 0.000e+00 3.070e+02 0.000e+00\n",
      "  0.000e+00 0.000e+00]\n",
      " [0.000e+00 5.500e+00 8.900e+01 1.879e+00 0.000e+00 2.540e+02 0.000e+00\n",
      "  0.000e+00 0.000e+00]\n",
      " [0.000e+00 5.300e+00 8.800e+01 3.035e+00 0.000e+00 3.000e+00 0.000e+00\n",
      "  0.000e+00 0.000e+00]\n",
      " [0.000e+00 5.200e+00 8.000e+01 2.153e+00 0.000e+00 2.540e+02 0.000e+00\n",
      "  0.000e+00 0.000e+00]\n",
      " [0.000e+00 6.000e+00 8.900e+01 1.966e+00 0.000e+00 2.000e+00 0.000e+00\n",
      "  0.000e+00 0.000e+00]\n",
      " [0.000e+00 5.400e+00 8.600e+01 1.730e+00 0.000e+00 4.000e+00 0.000e+00\n",
      "  0.000e+00 0.000e+00]\n",
      " [0.000e+00 4.800e+00 8.200e+01 8.400e-01 0.000e+00 3.780e+02 0.000e+00\n",
      "  0.000e+00 0.000e+00]\n",
      " [0.000e+00 5.800e+00 9.200e+01 3.708e+00 0.000e+00 3.000e+00 0.000e+00\n",
      "  0.000e+00 0.000e+00]\n",
      " [0.000e+00 5.500e+00 9.100e+01 8.400e-01 0.000e+00 4.100e+01 0.000e+00\n",
      "  0.000e+00 0.000e+00]\n",
      " [0.000e+00 4.900e+00 8.400e+01 3.381e+00 0.000e+00 1.620e+02 0.000e+00\n",
      "  0.000e+00 0.000e+00]\n",
      " [0.000e+00 5.100e+00 9.300e+01 1.295e+00 0.000e+00 1.530e+02 0.000e+00\n",
      "  0.000e+00 0.000e+00]]\n",
      "[[0.000e+00 0.000e+00 9.000e+01 8.400e-01 0.000e+00 4.350e+02 0.000e+00\n",
      "  0.000e+00 0.000e+00]\n",
      " [3.000e+00 0.000e+00 9.000e+01 8.400e-01 0.000e+00 2.571e+03 0.000e+00\n",
      "  0.000e+00 0.000e+00]\n",
      " [1.000e+00 5.300e+00 9.000e+01 8.400e-01 0.000e+00 1.068e+03 0.000e+00\n",
      "  0.000e+00 0.000e+00]\n",
      " [0.000e+00 5.600e+00 8.500e+01 4.972e+00 0.000e+00 3.070e+02 0.000e+00\n",
      "  0.000e+00 0.000e+00]\n",
      " [0.000e+00 6.000e+00 9.100e+01 9.697e+00 0.000e+00 3.120e+02 0.000e+00\n",
      "  0.000e+00 0.000e+00]\n",
      " [0.000e+00 4.000e+00 8.500e+01 1.337e+00 0.000e+00 3.120e+02 0.000e+00\n",
      "  0.000e+00 0.000e+00]\n",
      " [0.000e+00 5.000e+00 8.700e+01 1.310e+00 0.000e+00 3.070e+02 0.000e+00\n",
      "  0.000e+00 0.000e+00]\n",
      " [0.000e+00 5.500e+00 8.900e+01 1.879e+00 0.000e+00 2.540e+02 0.000e+00\n",
      "  0.000e+00 0.000e+00]\n",
      " [0.000e+00 5.300e+00 8.800e+01 3.035e+00 0.000e+00 3.000e+00 0.000e+00\n",
      "  0.000e+00 0.000e+00]\n",
      " [0.000e+00 5.200e+00 8.000e+01 2.153e+00 0.000e+00 2.540e+02 0.000e+00\n",
      "  0.000e+00 0.000e+00]\n",
      " [0.000e+00 6.000e+00 8.900e+01 1.966e+00 0.000e+00 2.000e+00 0.000e+00\n",
      "  0.000e+00 0.000e+00]\n",
      " [0.000e+00 5.400e+00 8.600e+01 1.730e+00 0.000e+00 4.000e+00 0.000e+00\n",
      "  0.000e+00 0.000e+00]\n",
      " [0.000e+00 4.800e+00 8.200e+01 8.400e-01 0.000e+00 3.780e+02 0.000e+00\n",
      "  0.000e+00 0.000e+00]\n",
      " [0.000e+00 5.800e+00 9.200e+01 3.708e+00 0.000e+00 3.000e+00 0.000e+00\n",
      "  0.000e+00 0.000e+00]\n",
      " [0.000e+00 5.500e+00 9.100e+01 8.400e-01 0.000e+00 4.100e+01 0.000e+00\n",
      "  0.000e+00 0.000e+00]\n",
      " [0.000e+00 4.900e+00 8.400e+01 3.381e+00 0.000e+00 1.620e+02 0.000e+00\n",
      "  0.000e+00 0.000e+00]\n",
      " [0.000e+00 5.100e+00 9.300e+01 1.295e+00 0.000e+00 1.530e+02 0.000e+00\n",
      "  0.000e+00 0.000e+00]\n",
      " [0.000e+00 5.700e+00 9.500e+01 8.400e-01 0.000e+00 4.000e+00 0.000e+00\n",
      "  0.000e+00 0.000e+00]]\n",
      "[[0.000e+00 0.000e+00 9.000e+01 8.400e-01 0.000e+00 4.350e+02 0.000e+00\n",
      "  0.000e+00 0.000e+00]\n",
      " [3.000e+00 0.000e+00 9.000e+01 8.400e-01 0.000e+00 2.571e+03 0.000e+00\n",
      "  0.000e+00 0.000e+00]\n",
      " [1.000e+00 5.300e+00 9.000e+01 8.400e-01 0.000e+00 1.068e+03 0.000e+00\n",
      "  0.000e+00 0.000e+00]\n",
      " [0.000e+00 5.600e+00 8.500e+01 4.972e+00 0.000e+00 3.070e+02 0.000e+00\n",
      "  0.000e+00 0.000e+00]\n",
      " [0.000e+00 6.000e+00 9.100e+01 9.697e+00 0.000e+00 3.120e+02 0.000e+00\n",
      "  0.000e+00 0.000e+00]\n",
      " [0.000e+00 4.000e+00 8.500e+01 1.337e+00 0.000e+00 3.120e+02 0.000e+00\n",
      "  0.000e+00 0.000e+00]\n",
      " [0.000e+00 5.000e+00 8.700e+01 1.310e+00 0.000e+00 3.070e+02 0.000e+00\n",
      "  0.000e+00 0.000e+00]\n",
      " [0.000e+00 5.500e+00 8.900e+01 1.879e+00 0.000e+00 2.540e+02 0.000e+00\n",
      "  0.000e+00 0.000e+00]\n",
      " [0.000e+00 5.300e+00 8.800e+01 3.035e+00 0.000e+00 3.000e+00 0.000e+00\n",
      "  0.000e+00 0.000e+00]\n",
      " [0.000e+00 5.200e+00 8.000e+01 2.153e+00 0.000e+00 2.540e+02 0.000e+00\n",
      "  0.000e+00 0.000e+00]\n",
      " [0.000e+00 6.000e+00 8.900e+01 1.966e+00 0.000e+00 2.000e+00 0.000e+00\n",
      "  0.000e+00 0.000e+00]\n",
      " [0.000e+00 5.400e+00 8.600e+01 1.730e+00 0.000e+00 4.000e+00 0.000e+00\n",
      "  0.000e+00 0.000e+00]\n",
      " [0.000e+00 4.800e+00 8.200e+01 8.400e-01 0.000e+00 3.780e+02 0.000e+00\n",
      "  0.000e+00 0.000e+00]\n",
      " [0.000e+00 5.800e+00 9.200e+01 3.708e+00 0.000e+00 3.000e+00 0.000e+00\n",
      "  0.000e+00 0.000e+00]\n",
      " [0.000e+00 5.500e+00 9.100e+01 8.400e-01 0.000e+00 4.100e+01 0.000e+00\n",
      "  0.000e+00 0.000e+00]\n",
      " [0.000e+00 4.900e+00 8.400e+01 3.381e+00 0.000e+00 1.620e+02 0.000e+00\n",
      "  0.000e+00 0.000e+00]\n",
      " [0.000e+00 5.100e+00 9.300e+01 1.295e+00 0.000e+00 1.530e+02 0.000e+00\n",
      "  0.000e+00 0.000e+00]\n",
      " [0.000e+00 5.700e+00 9.500e+01 8.400e-01 0.000e+00 4.000e+00 0.000e+00\n",
      "  0.000e+00 0.000e+00]\n",
      " [0.000e+00 4.600e+00 8.600e+01 9.940e-01 0.000e+00 1.330e+02 0.000e+00\n",
      "  0.000e+00 0.000e+00]]\n"
     ]
    }
   ],
   "source": [
    "for km in kmeans_per_k:\n",
    "    clusters = km.fit_predict(X,y)\n",
    "    # Print the cluster centroids\n",
    "for km in kmeans_per_k:\n",
    "    print(km.cluster_centroids_)"
   ]
  },
  {
   "cell_type": "code",
   "execution_count": 138,
   "metadata": {},
   "outputs": [
    {
     "name": "stdout",
     "output_type": "stream",
     "text": [
      "[-0.2847282160749476, -0.29209375369366775, -0.33324964510992455, -0.3328179059682764, -0.906400600828752, -0.9064330604320354, -0.9066053505681639, -0.9065783916916392, -0.9067755216135108, -0.9068413938464346, -0.9068040379567457, -0.9065413616322454, -0.9064397569253114, -0.9065129491238146, -0.9065289078470309, -0.9065490120162247, -0.9066998878070233, -0.9066968181454347]\n"
     ]
    }
   ],
   "source": [
    "# desde k = 2\n",
    "silhouette_scores = [silhouette_score(X, model.labels_) for model in kmeans_per_k[1:]]\n",
    "print(silhouette_scores)"
   ]
  },
  {
   "cell_type": "code",
   "execution_count": 139,
   "metadata": {},
   "outputs": [],
   "source": [
    "labels = kmodes.predict(X,categorical = y)\n",
    "silhouette_avg = silhouette_score(X, labels)"
   ]
  },
  {
   "cell_type": "code",
   "execution_count": 140,
   "metadata": {},
   "outputs": [
    {
     "name": "stdout",
     "output_type": "stream",
     "text": [
      "Init: initializing centroids\n",
      "Init: initializing clusters\n",
      "Starting iterations...\n",
      "Run 1, iteration: 1/100, moves: 17, cost: 26725.0\n",
      "Init: initializing centroids\n",
      "Init: initializing clusters\n",
      "Starting iterations...\n",
      "Run 2, iteration: 1/100, moves: 218, cost: 25424.0\n",
      "Run 2, iteration: 2/100, moves: 8, cost: 25424.0\n",
      "Init: initializing centroids\n",
      "Init: initializing clusters\n",
      "Starting iterations...\n",
      "Run 3, iteration: 1/100, moves: 216, cost: 24896.0\n",
      "Init: initializing centroids\n",
      "Init: initializing clusters\n",
      "Starting iterations...\n",
      "Run 4, iteration: 1/100, moves: 188, cost: 24896.0\n",
      "Init: initializing centroids\n",
      "Init: initializing clusters\n",
      "Starting iterations...\n",
      "Run 5, iteration: 1/100, moves: 67, cost: 24383.0\n",
      "Run 5, iteration: 2/100, moves: 0, cost: 24383.0\n",
      "Best run was number 5\n",
      "Silhouette score para k=2: -0.285\n",
      "Init: initializing centroids\n",
      "Init: initializing clusters\n",
      "Starting iterations...\n",
      "Run 1, iteration: 1/100, moves: 355, cost: 24995.0\n",
      "Run 1, iteration: 2/100, moves: 188, cost: 24995.0\n",
      "Init: initializing centroids\n",
      "Init: initializing clusters\n",
      "Starting iterations...\n",
      "Run 2, iteration: 1/100, moves: 153, cost: 24247.0\n",
      "Init: initializing centroids\n",
      "Init: initializing clusters\n",
      "Starting iterations...\n",
      "Run 3, iteration: 1/100, moves: 94, cost: 24193.0\n",
      "Init: initializing centroids\n",
      "Init: initializing clusters\n",
      "Starting iterations...\n",
      "Run 4, iteration: 1/100, moves: 309, cost: 24737.0\n",
      "Init: initializing centroids\n",
      "Init: initializing clusters\n",
      "Starting iterations...\n",
      "Run 5, iteration: 1/100, moves: 3266, cost: 23822.0\n",
      "Run 5, iteration: 2/100, moves: 176, cost: 23822.0\n",
      "Best run was number 5\n",
      "Silhouette score para k=3: -0.488\n",
      "Init: initializing centroids\n",
      "Init: initializing clusters\n",
      "Starting iterations...\n",
      "Run 1, iteration: 1/100, moves: 190, cost: 26210.0\n",
      "Run 1, iteration: 2/100, moves: 2, cost: 26210.0\n",
      "Init: initializing centroids\n",
      "Init: initializing clusters\n",
      "Starting iterations...\n",
      "Run 2, iteration: 1/100, moves: 2596, cost: 24111.0\n",
      "Run 2, iteration: 2/100, moves: 22, cost: 24111.0\n",
      "Init: initializing centroids\n",
      "Init: initializing clusters\n",
      "Starting iterations...\n",
      "Run 3, iteration: 1/100, moves: 216, cost: 23754.0\n",
      "Run 3, iteration: 2/100, moves: 53, cost: 23754.0\n",
      "Init: initializing centroids\n",
      "Init: initializing clusters\n",
      "Starting iterations...\n",
      "Run 4, iteration: 1/100, moves: 60, cost: 23053.0\n",
      "Init: initializing centroids\n",
      "Init: initializing clusters\n",
      "Starting iterations...\n",
      "Run 5, iteration: 1/100, moves: 306, cost: 26079.0\n",
      "Best run was number 4\n",
      "Silhouette score para k=4: -0.289\n",
      "Init: initializing centroids\n",
      "Init: initializing clusters\n",
      "Starting iterations...\n",
      "Run 1, iteration: 1/100, moves: 270, cost: 24383.0\n",
      "Init: initializing centroids\n",
      "Init: initializing clusters\n",
      "Starting iterations...\n",
      "Run 2, iteration: 1/100, moves: 49, cost: 22941.0\n",
      "Init: initializing centroids\n",
      "Init: initializing clusters\n",
      "Starting iterations...\n",
      "Run 3, iteration: 1/100, moves: 604, cost: 25660.0\n",
      "Run 3, iteration: 2/100, moves: 0, cost: 25660.0\n",
      "Init: initializing centroids\n",
      "Init: initializing clusters\n",
      "Starting iterations...\n",
      "Run 4, iteration: 1/100, moves: 3572, cost: 23430.0\n",
      "Run 4, iteration: 2/100, moves: 405, cost: 23430.0\n",
      "Init: initializing centroids\n",
      "Init: initializing clusters\n",
      "Starting iterations...\n",
      "Run 5, iteration: 1/100, moves: 2494, cost: 23721.0\n",
      "Run 5, iteration: 2/100, moves: 160, cost: 23721.0\n",
      "Best run was number 2\n",
      "Silhouette score para k=5: -0.674\n"
     ]
    }
   ],
   "source": [
    "silhouette_scores = []\n",
    "inercias = []\n",
    "# Probamos varios valores de k y guardamos el coeficiente de Silhouette de cada modelo\n",
    "for k in range(2, 6):\n",
    "    km = KModes(n_clusters=k, init='Huang', n_init=5, verbose=1)\n",
    "    clusters = km.fit_predict(X, categorical=y)\n",
    "    score = silhouette_score(X, clusters)\n",
    "    silhouette_scores.append(score)\n",
    "    inercias.append(km.cost_)\n",
    "    print(f'Silhouette score para k={k}: {score:.3f}')"
   ]
  },
  {
   "cell_type": "code",
   "execution_count": 141,
   "metadata": {},
   "outputs": [
    {
     "data": {
      "image/png": "[encoded data removed]",
      "text/plain": [
       "<Figure size 640x480 with 1 Axes>"
      ]
     },
     "metadata": {},
     "output_type": "display_data"
    }
   ],
   "source": [
    "# k=2 parece que es el que más sentido tiene\n",
    "\n",
    "plt.plot(range(2, 6), silhouette_scores)\n",
    "plt.xlabel('Número de clusters')\n",
    "plt.ylabel('Coeficiente de Silhouette')\n",
    "plt.show()"
   ]
  },
  {
   "cell_type": "code",
   "execution_count": 142,
   "metadata": {},
   "outputs": [
    {
     "data": {
      "image/png": "[encoded data removed]",
      "text/plain": [
       "<Figure size 640x480 with 1 Axes>"
      ]
     },
     "metadata": {},
     "output_type": "display_data"
    }
   ],
   "source": [
    "plt.plot(range(2, 6), inercias)\n",
    "plt.xlabel('Número de clusters')\n",
    "plt.ylabel('Inercia')\n",
    "plt.show()"
   ]
  },
  {
   "cell_type": "code",
   "execution_count": 143,
   "metadata": {},
   "outputs": [
    {
     "name": "stdout",
     "output_type": "stream",
     "text": [
      "['__class__', '__delattr__', '__dict__', '__dir__', '__doc__', '__eq__', '__format__', '__ge__', '__getattribute__', '__getstate__', '__gt__', '__hash__', '__init__', '__init_subclass__', '__le__', '__lt__', '__module__', '__ne__', '__new__', '__reduce__', '__reduce_ex__', '__repr__', '__setattr__', '__setstate__', '__sizeof__', '__str__', '__subclasshook__', '__weakref__', '_check_feature_names', '_check_n_features', '_enc_cluster_centroids', '_enc_map', '_estimator_type', '_get_param_names', '_get_tags', '_more_tags', '_repr_html_', '_repr_html_inner', '_repr_mimebundle_', '_validate_data', '_validate_params', 'cat_dissim', 'cluster_centroids_', 'cost_', 'epoch_costs_', 'fit', 'fit_predict', 'get_params', 'init', 'labels_', 'max_iter', 'n_clusters', 'n_init', 'n_iter_', 'n_jobs', 'predict', 'random_state', 'set_params', 'verbose']\n"
     ]
    }
   ],
   "source": [
    "print(dir(kmeans_per_k[0]))\n"
   ]
  },
  {
   "attachments": {},
   "cell_type": "markdown",
   "metadata": {},
   "source": [
    "En Kmodes la inercia la vemos con cost_ en lugar de con inertia_ "
   ]
  },
  {
   "cell_type": "code",
   "execution_count": 155,
   "metadata": {},
   "outputs": [
    {
     "data": {
      "text/plain": [
       "Text(0, 0.5, 'Inertia')"
      ]
     },
     "execution_count": 155,
     "metadata": {},
     "output_type": "execute_result"
    },
    {
     "data": {
      "image/png": "[encoded data removed]",
      "text/plain": [
       "<Figure size 800x350 with 1 Axes>"
      ]
     },
     "metadata": {},
     "output_type": "display_data"
    }
   ],
   "source": [
    "kmeans_per_k = [KModes(n_init=1,n_clusters=k, random_state=42).fit(X,categorical=y) for k in range(1,10)]\n",
    "\n",
    "inertias = [model.cost_ for model in kmeans_per_k]\n",
    "\n",
    "plt.figure(figsize=(8,3.5))\n",
    "plt.plot(range(1,10), inertias, \"bo-\")\n",
    "plt.xlabel(\"$k$\", fontsize=14)\n",
    "plt.ylabel(\"Inertia\", fontsize=14)"
   ]
  },
  {
   "cell_type": "code",
   "execution_count": 156,
   "metadata": {},
   "outputs": [],
   "source": [
    "kmodes = KModes(n_clusters = 3, random_state=42).fit(dataframe, categorical=y)"
   ]
  },
  {
   "cell_type": "markdown",
   "metadata": {},
   "source": [
    "#### Muestra en un grafico de quesito la distribución de los distintos clusters"
   ]
  },
  {
   "cell_type": "code",
   "execution_count": 157,
   "metadata": {},
   "outputs": [
    {
     "data": {
      "text/plain": [
       "array([0, 1, 2, ..., 1, 0, 2], dtype=uint16)"
      ]
     },
     "execution_count": 157,
     "metadata": {},
     "output_type": "execute_result"
    }
   ],
   "source": [
    "kmodes.labels_"
   ]
  },
  {
   "cell_type": "code",
   "execution_count": 158,
   "metadata": {},
   "outputs": [
    {
     "data": {
      "text/plain": [
       "array([['17', 'Abduction', '0', '0.0', '90', '0.84', '0', '435', '0',\n",
       "        '0', '0', '0'],\n",
       "       ['791', 'Dark House', '1', '5.0', '85', '0.84', '0', '1068', '1',\n",
       "        '0', '0', '0'],\n",
       "       ['215', 'Alone', '3', '0.0', '90', '0.84', '0', '2571', '0', '0',\n",
       "        '0', '0']], dtype='<U32')"
      ]
     },
     "execution_count": 158,
     "metadata": {},
     "output_type": "execute_result"
    }
   ],
   "source": [
    "kmodes.cluster_centroids_"
   ]
  },
  {
   "cell_type": "code",
   "execution_count": 159,
   "metadata": {},
   "outputs": [
    {
     "name": "stdout",
     "output_type": "stream",
     "text": [
      "La puntuación del coeficiente de silueta es: -0.3328179059682764\n"
     ]
    }
   ],
   "source": [
    "#from kmodes.kmodes import KModes\n",
    "from sklearn.metrics import silhouette_score\n",
    "\n",
    "# Cargar los datos y dividirlos en características y etiquetas\n",
    "\n",
    "\n",
    "# Crear un modelo de K-Means con el número de clusters deseado\n",
    "kmodes = KModes(n_clusters=5)\n",
    "\n",
    "# Entrenar el modelo de K-Means\n",
    "kmodes.fit(X,categorical=y)\n",
    "\n",
    "# Predecir las etiquetas de los clusters\n",
    "labels = kmodes.predict(X,categorical=y)\n",
    "\n",
    "# Calcular la puntuación del coeficiente de silueta\n",
    "silhouette_avg = silhouette_score(X, labels)\n",
    "\n",
    "# Imprimir la puntuación del coeficiente de silueta\n",
    "print(\"La puntuación del coeficiente de silueta es:\", silhouette_avg)\n"
   ]
  },
  {
   "cell_type": "code",
   "execution_count": 160,
   "metadata": {},
   "outputs": [
    {
     "data": {
      "text/plain": [
       "(6513, 9)"
      ]
     },
     "execution_count": 160,
     "metadata": {},
     "output_type": "execute_result"
    }
   ],
   "source": [
    "X.shape"
   ]
  },
  {
   "cell_type": "code",
   "execution_count": 161,
   "metadata": {},
   "outputs": [],
   "source": [
    "X_new = [[2.57100e+03, 2.97682e+02, 1.14300e+03, 6.90000e+00, 2.50000e+05, 1.38000e+02, 1.38000e+02, 1.38000e+02, 3.00000e+00]]"
   ]
  },
  {
   "cell_type": "code",
   "execution_count": 162,
   "metadata": {},
   "outputs": [
    {
     "data": {
      "text/plain": [
       "array([0], dtype=uint16)"
      ]
     },
     "execution_count": 162,
     "metadata": {},
     "output_type": "execute_result"
    }
   ],
   "source": [
    "kmodes.predict(X_new)"
   ]
  },
  {
   "cell_type": "code",
   "execution_count": 163,
   "metadata": {},
   "outputs": [
    {
     "data": {
      "text/plain": [
       "<AxesSubplot: ylabel='Data'>"
      ]
     },
     "execution_count": 163,
     "metadata": {},
     "output_type": "execute_result"
    },
    {
     "data": {
      "image/png": "[encoded data removed]",
      "text/plain": [
       "<Figure size 640x480 with 1 Axes>"
      ]
     },
     "metadata": {},
     "output_type": "display_data"
    }
   ],
   "source": [
    "df = pd.DataFrame({\"Data\": kmodes.labels_})\n",
    "df[\"Data\"].value_counts().plot.pie(autopct=\"%.1f%%\")\n"
   ]
  },
  {
   "cell_type": "code",
   "execution_count": null,
   "metadata": {},
   "outputs": [],
   "source": []
  }
 ],
 "metadata": {
  "colab": {
   "collapsed_sections": [],
   "name": "kmeans-user-clustering.ipynb",
   "provenance": []
  },
  "kernelspec": {
   "display_name": "Python 3 (ipykernel)",
   "language": "python",
   "name": "python3"
  },
  "language_info": {
   "codemirror_mode": {
    "name": "ipython",
    "version": 3
   },
   "file_extension": ".py",
   "mimetype": "text/x-python",
   "name": "python",
   "nbconvert_exporter": "python",
   "pygments_lexer": "ipython3",
   "version": "3.9.2"
  },
  "nbTranslate": {
   "displayLangs": [
    "*"
   ],
   "hotkey": "alt-t",
   "langInMainMenu": true,
   "sourceLang": "en",
   "targetLang": "fr",
   "useGoogleTranslate": true
  },
  "varInspector": {
   "cols": {
    "lenName": 16,
    "lenType": 16,
    "lenVar": 40
   },
   "kernels_config": {
    "python": {
     "delete_cmd_postfix": "",
     "delete_cmd_prefix": "del ",
     "library": "var_list.py",
     "varRefreshCmd": "print(var_dic_list())"
    },
    "r": {
     "delete_cmd_postfix": ") ",
     "delete_cmd_prefix": "rm(",
     "library": "var_list.r",
     "varRefreshCmd": "cat(var_dic_list()) "
    }
   },
   "types_to_exclude": [
    "module",
    "function",
    "builtin_function_or_method",
    "instance",
    "_Feature"
   ],
   "window_display": false
  }
 },
 "nbformat": 4,
 "nbformat_minor": 4
}
