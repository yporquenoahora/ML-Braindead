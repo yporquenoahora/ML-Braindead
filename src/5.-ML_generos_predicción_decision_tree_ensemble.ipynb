{
 "cells": [
  {
   "attachments": {},
   "cell_type": "markdown",
   "metadata": {},
   "source": [
    "<h1>Predicción con modelo Decision Trees</h1>"
   ]
  },
  {
   "cell_type": "code",
   "execution_count": 44,
   "metadata": {},
   "outputs": [
    {
     "name": "stdout",
     "output_type": "stream",
     "text": [
      "Requirement already satisfied: ipywidgets in c:\\python39\\lib\\site-packages (8.0.6)\n",
      "Requirement already satisfied: ipykernel>=4.5.1 in c:\\users\\yporq\\appdata\\roaming\\python\\python39\\site-packages (from ipywidgets) (6.21.2)\n",
      "Requirement already satisfied: ipython>=6.1.0 in c:\\users\\yporq\\appdata\\roaming\\python\\python39\\site-packages (from ipywidgets) (8.11.0)\n",
      "Requirement already satisfied: traitlets>=4.3.1 in c:\\users\\yporq\\appdata\\roaming\\python\\python39\\site-packages (from ipywidgets) (5.9.0)\n",
      "Requirement already satisfied: widgetsnbextension~=4.0.7 in c:\\python39\\lib\\site-packages (from ipywidgets) (4.0.7)\n",
      "Requirement already satisfied: jupyterlab-widgets~=3.0.7 in c:\\python39\\lib\\site-packages (from ipywidgets) (3.0.7)\n",
      "Requirement already satisfied: comm>=0.1.1 in c:\\users\\yporq\\appdata\\roaming\\python\\python39\\site-packages (from ipykernel>=4.5.1->ipywidgets) (0.1.2)\n",
      "Requirement already satisfied: debugpy>=1.6.5 in c:\\users\\yporq\\appdata\\roaming\\python\\python39\\site-packages (from ipykernel>=4.5.1->ipywidgets) (1.6.6)\n",
      "Requirement already satisfied: jupyter-client>=6.1.12 in c:\\users\\yporq\\appdata\\roaming\\python\\python39\\site-packages (from ipykernel>=4.5.1->ipywidgets) (8.0.3)\n",
      "Requirement already satisfied: jupyter-core!=5.0.*,>=4.12 in c:\\users\\yporq\\appdata\\roaming\\python\\python39\\site-packages (from ipykernel>=4.5.1->ipywidgets) (5.2.0)\n",
      "Requirement already satisfied: matplotlib-inline>=0.1 in c:\\users\\yporq\\appdata\\roaming\\python\\python39\\site-packages (from ipykernel>=4.5.1->ipywidgets) (0.1.6)\n",
      "Requirement already satisfied: nest-asyncio in c:\\users\\yporq\\appdata\\roaming\\python\\python39\\site-packages (from ipykernel>=4.5.1->ipywidgets) (1.5.6)\n",
      "Requirement already satisfied: packaging in c:\\python39\\lib\\site-packages (from ipykernel>=4.5.1->ipywidgets) (23.0)\n",
      "Requirement already satisfied: psutil in c:\\users\\yporq\\appdata\\roaming\\python\\python39\\site-packages (from ipykernel>=4.5.1->ipywidgets) (5.9.4)\n",
      "Requirement already satisfied: pyzmq>=20 in c:\\users\\yporq\\appdata\\roaming\\python\\python39\\site-packages (from ipykernel>=4.5.1->ipywidgets) (25.0.0)\n",
      "Requirement already satisfied: tornado>=6.1 in c:\\users\\yporq\\appdata\\roaming\\python\\python39\\site-packages (from ipykernel>=4.5.1->ipywidgets) (6.2)\n",
      "Requirement already satisfied: backcall in c:\\users\\yporq\\appdata\\roaming\\python\\python39\\site-packages (from ipython>=6.1.0->ipywidgets) (0.2.0)\n",
      "Requirement already satisfied: decorator in c:\\users\\yporq\\appdata\\roaming\\python\\python39\\site-packages (from ipython>=6.1.0->ipywidgets) (5.1.1)\n",
      "Requirement already satisfied: jedi>=0.16 in c:\\users\\yporq\\appdata\\roaming\\python\\python39\\site-packages (from ipython>=6.1.0->ipywidgets) (0.18.2)\n",
      "Requirement already satisfied: pickleshare in c:\\users\\yporq\\appdata\\roaming\\python\\python39\\site-packages (from ipython>=6.1.0->ipywidgets) (0.7.5)\n",
      "Requirement already satisfied: prompt-toolkit!=3.0.37,<3.1.0,>=3.0.30 in c:\\users\\yporq\\appdata\\roaming\\python\\python39\\site-packages (from ipython>=6.1.0->ipywidgets) (3.0.38)\n",
      "Requirement already satisfied: pygments>=2.4.0 in c:\\users\\yporq\\appdata\\roaming\\python\\python39\\site-packages (from ipython>=6.1.0->ipywidgets) (2.14.0)\n",
      "Requirement already satisfied: stack-data in c:\\users\\yporq\\appdata\\roaming\\python\\python39\\site-packages (from ipython>=6.1.0->ipywidgets) (0.6.2)\n",
      "Requirement already satisfied: colorama in c:\\users\\yporq\\appdata\\roaming\\python\\python39\\site-packages (from ipython>=6.1.0->ipywidgets) (0.4.6)\n",
      "Requirement already satisfied: parso<0.9.0,>=0.8.0 in c:\\users\\yporq\\appdata\\roaming\\python\\python39\\site-packages (from jedi>=0.16->ipython>=6.1.0->ipywidgets) (0.8.3)\n",
      "Requirement already satisfied: importlib-metadata>=4.8.3 in c:\\users\\yporq\\appdata\\roaming\\python\\python39\\site-packages (from jupyter-client>=6.1.12->ipykernel>=4.5.1->ipywidgets) (6.0.0)\n",
      "Requirement already satisfied: python-dateutil>=2.8.2 in c:\\python39\\lib\\site-packages (from jupyter-client>=6.1.12->ipykernel>=4.5.1->ipywidgets) (2.8.2)\n",
      "Requirement already satisfied: platformdirs>=2.5 in c:\\users\\yporq\\appdata\\roaming\\python\\python39\\site-packages (from jupyter-core!=5.0.*,>=4.12->ipykernel>=4.5.1->ipywidgets) (3.0.0)\n",
      "Requirement already satisfied: pywin32>=1.0 in c:\\users\\yporq\\appdata\\roaming\\python\\python39\\site-packages (from jupyter-core!=5.0.*,>=4.12->ipykernel>=4.5.1->ipywidgets) (305)\n",
      "Requirement already satisfied: wcwidth in c:\\python39\\lib\\site-packages (from prompt-toolkit!=3.0.37,<3.1.0,>=3.0.30->ipython>=6.1.0->ipywidgets) (0.2.6)\n",
      "Requirement already satisfied: executing>=1.2.0 in c:\\users\\yporq\\appdata\\roaming\\python\\python39\\site-packages (from stack-data->ipython>=6.1.0->ipywidgets) (1.2.0)\n",
      "Requirement already satisfied: asttokens>=2.1.0 in c:\\users\\yporq\\appdata\\roaming\\python\\python39\\site-packages (from stack-data->ipython>=6.1.0->ipywidgets) (2.2.1)\n",
      "Requirement already satisfied: pure-eval in c:\\users\\yporq\\appdata\\roaming\\python\\python39\\site-packages (from stack-data->ipython>=6.1.0->ipywidgets) (0.2.2)\n",
      "Requirement already satisfied: six in c:\\python39\\lib\\site-packages (from asttokens>=2.1.0->stack-data->ipython>=6.1.0->ipywidgets) (1.16.0)\n",
      "Requirement already satisfied: zipp>=0.5 in c:\\users\\yporq\\appdata\\roaming\\python\\python39\\site-packages (from importlib-metadata>=4.8.3->jupyter-client>=6.1.12->ipykernel>=4.5.1->ipywidgets) (3.12.0)\n",
      "Note: you may need to restart the kernel to use updated packages.\n"
     ]
    },
    {
     "name": "stderr",
     "output_type": "stream",
     "text": [
      "WARNING: Ignoring invalid distribution - (c:\\python39\\lib\\site-packages)\n",
      "WARNING: Ignoring invalid distribution -ip (c:\\python39\\lib\\site-packages)\n",
      "WARNING: Ignoring invalid distribution - (c:\\python39\\lib\\site-packages)\n",
      "WARNING: Ignoring invalid distribution -ip (c:\\python39\\lib\\site-packages)\n"
     ]
    },
    {
     "name": "stdout",
     "output_type": "stream",
     "text": [
      "Requirement already satisfied: ipython in c:\\users\\yporq\\appdata\\roaming\\python\\python39\\site-packages (8.11.0)\n",
      "Requirement already satisfied: backcall in c:\\users\\yporq\\appdata\\roaming\\python\\python39\\site-packages (from ipython) (0.2.0)\n",
      "Requirement already satisfied: decorator in c:\\users\\yporq\\appdata\\roaming\\python\\python39\\site-packages (from ipython) (5.1.1)\n",
      "Requirement already satisfied: jedi>=0.16 in c:\\users\\yporq\\appdata\\roaming\\python\\python39\\site-packages (from ipython) (0.18.2)\n",
      "Requirement already satisfied: matplotlib-inline in c:\\users\\yporq\\appdata\\roaming\\python\\python39\\site-packages (from ipython) (0.1.6)\n",
      "Requirement already satisfied: pickleshare in c:\\users\\yporq\\appdata\\roaming\\python\\python39\\site-packages (from ipython) (0.7.5)\n",
      "Requirement already satisfied: prompt-toolkit!=3.0.37,<3.1.0,>=3.0.30 in c:\\users\\yporq\\appdata\\roaming\\python\\python39\\site-packages (from ipython) (3.0.38)\n",
      "Requirement already satisfied: pygments>=2.4.0 in c:\\users\\yporq\\appdata\\roaming\\python\\python39\\site-packages (from ipython) (2.14.0)\n",
      "Requirement already satisfied: stack-data in c:\\users\\yporq\\appdata\\roaming\\python\\python39\\site-packages (from ipython) (0.6.2)\n",
      "Requirement already satisfied: traitlets>=5 in c:\\users\\yporq\\appdata\\roaming\\python\\python39\\site-packages (from ipython) (5.9.0)\n",
      "Requirement already satisfied: colorama in c:\\users\\yporq\\appdata\\roaming\\python\\python39\\site-packages (from ipython) (0.4.6)\n",
      "Requirement already satisfied: parso<0.9.0,>=0.8.0 in c:\\users\\yporq\\appdata\\roaming\\python\\python39\\site-packages (from jedi>=0.16->ipython) (0.8.3)\n",
      "Requirement already satisfied: wcwidth in c:\\python39\\lib\\site-packages (from prompt-toolkit!=3.0.37,<3.1.0,>=3.0.30->ipython) (0.2.6)\n",
      "Requirement already satisfied: executing>=1.2.0 in c:\\users\\yporq\\appdata\\roaming\\python\\python39\\site-packages (from stack-data->ipython) (1.2.0)\n",
      "Requirement already satisfied: asttokens>=2.1.0 in c:\\users\\yporq\\appdata\\roaming\\python\\python39\\site-packages (from stack-data->ipython) (2.2.1)\n",
      "Requirement already satisfied: pure-eval in c:\\users\\yporq\\appdata\\roaming\\python\\python39\\site-packages (from stack-data->ipython) (0.2.2)\n",
      "Requirement already satisfied: six in c:\\python39\\lib\\site-packages (from asttokens>=2.1.0->stack-data->ipython) (1.16.0)\n",
      "Note: you may need to restart the kernel to use updated packages.\n"
     ]
    },
    {
     "name": "stderr",
     "output_type": "stream",
     "text": [
      "WARNING: Ignoring invalid distribution - (c:\\python39\\lib\\site-packages)\n",
      "WARNING: Ignoring invalid distribution -ip (c:\\python39\\lib\\site-packages)\n",
      "WARNING: Ignoring invalid distribution - (c:\\python39\\lib\\site-packages)\n",
      "WARNING: Ignoring invalid distribution -ip (c:\\python39\\lib\\site-packages)\n"
     ]
    }
   ],
   "source": [
    "%pip install ipywidgets\n",
    "%pip install ipython"
   ]
  },
  {
   "cell_type": "code",
   "execution_count": 45,
   "metadata": {},
   "outputs": [
    {
     "name": "stdout",
     "output_type": "stream",
     "text": [
      "Requirement already satisfied: scikit-learn in c:\\python39\\lib\\site-packages (1.2.2)Note: you may need to restart the kernel to use updated packages.\n"
     ]
    },
    {
     "name": "stderr",
     "output_type": "stream",
     "text": [
      "WARNING: Ignoring invalid distribution - (c:\\python39\\lib\\site-packages)\n",
      "WARNING: Ignoring invalid distribution -ip (c:\\python39\\lib\\site-packages)\n",
      "WARNING: Ignoring invalid distribution - (c:\\python39\\lib\\site-packages)\n",
      "WARNING: Ignoring invalid distribution -ip (c:\\python39\\lib\\site-packages)\n"
     ]
    },
    {
     "name": "stdout",
     "output_type": "stream",
     "text": [
      "\n",
      "Requirement already satisfied: numpy>=1.17.3 in c:\\python39\\lib\\site-packages (from scikit-learn) (1.24.1)\n",
      "Requirement already satisfied: scipy>=1.3.2 in c:\\python39\\lib\\site-packages (from scikit-learn) (1.10.0)\n",
      "Requirement already satisfied: joblib>=1.1.1 in c:\\python39\\lib\\site-packages (from scikit-learn) (1.2.0)\n",
      "Requirement already satisfied: threadpoolctl>=2.0.0 in c:\\python39\\lib\\site-packages (from scikit-learn) (3.1.0)\n"
     ]
    }
   ],
   "source": [
    "%pip install -U scikit-learn"
   ]
  },
  {
   "cell_type": "code",
   "execution_count": 46,
   "metadata": {},
   "outputs": [],
   "source": [
    "import pandas as pd\n",
    "import numpy as np\n",
    "\n",
    "from sklearn.ensemble import BaggingClassifier\n",
    "from sklearn.ensemble import RandomForestClassifier\n",
    "from sklearn.ensemble import AdaBoostClassifier\n",
    "from sklearn.ensemble import GradientBoostingClassifier\n",
    "from xgboost import XGBClassifier\n",
    "\n",
    "from sklearn.tree import DecisionTreeClassifier\n",
    "from sklearn import model_selection\n",
    "\n",
    "from sklearn.model_selection import cross_val_score"
   ]
  },
  {
   "cell_type": "code",
   "execution_count": 47,
   "metadata": {},
   "outputs": [
    {
     "data": {
      "text/html": [
       "<div>\n",
       "<style scoped>\n",
       "    .dataframe tbody tr th:only-of-type {\n",
       "        vertical-align: middle;\n",
       "    }\n",
       "\n",
       "    .dataframe tbody tr th {\n",
       "        vertical-align: top;\n",
       "    }\n",
       "\n",
       "    .dataframe thead th {\n",
       "        text-align: right;\n",
       "    }\n",
       "</style>\n",
       "<table border=\"1\" class=\"dataframe\">\n",
       "  <thead>\n",
       "    <tr style=\"text-align: right;\">\n",
       "      <th></th>\n",
       "      <th>Unnamed: 0.1</th>\n",
       "      <th>Unnamed: 0</th>\n",
       "      <th>id</th>\n",
       "      <th>poster_path</th>\n",
       "      <th>adult</th>\n",
       "      <th>overview</th>\n",
       "      <th>release_date</th>\n",
       "      <th>genre_ids</th>\n",
       "      <th>original_title</th>\n",
       "      <th>original_language</th>\n",
       "      <th>...</th>\n",
       "      <th>Acción</th>\n",
       "      <th>Comedia</th>\n",
       "      <th>Historia</th>\n",
       "      <th>Western</th>\n",
       "      <th>Suspense</th>\n",
       "      <th>Crimen</th>\n",
       "      <th>Ciencia ficción</th>\n",
       "      <th>Misterio</th>\n",
       "      <th>Documental</th>\n",
       "      <th>reciente</th>\n",
       "    </tr>\n",
       "  </thead>\n",
       "  <tbody>\n",
       "    <tr>\n",
       "      <th>0</th>\n",
       "      <td>0</td>\n",
       "      <td>9</td>\n",
       "      <td>1011679</td>\n",
       "      <td>/v5CfpzxoJDkZxjZAizClFdlEF0U.jpg</td>\n",
       "      <td>False</td>\n",
       "      <td>Hace décadas, la URSS desarrolló tiburones imp...</td>\n",
       "      <td>2022-08-12</td>\n",
       "      <td>28-878-53-27</td>\n",
       "      <td>Shark Side of the Moon</td>\n",
       "      <td>en</td>\n",
       "      <td>...</td>\n",
       "      <td>1</td>\n",
       "      <td>0</td>\n",
       "      <td>0</td>\n",
       "      <td>0</td>\n",
       "      <td>1</td>\n",
       "      <td>0</td>\n",
       "      <td>1</td>\n",
       "      <td>0</td>\n",
       "      <td>0</td>\n",
       "      <td>1</td>\n",
       "    </tr>\n",
       "    <tr>\n",
       "      <th>1</th>\n",
       "      <td>1</td>\n",
       "      <td>10</td>\n",
       "      <td>884184</td>\n",
       "      <td>/yQTRmPzKAdLodknnPVtImm6FWPZ.jpg</td>\n",
       "      <td>False</td>\n",
       "      <td>Después del presunto suicidio de su hermano sa...</td>\n",
       "      <td>2023-02-10</td>\n",
       "      <td>27-53</td>\n",
       "      <td>Consecration</td>\n",
       "      <td>en</td>\n",
       "      <td>...</td>\n",
       "      <td>0</td>\n",
       "      <td>0</td>\n",
       "      <td>0</td>\n",
       "      <td>0</td>\n",
       "      <td>1</td>\n",
       "      <td>0</td>\n",
       "      <td>0</td>\n",
       "      <td>0</td>\n",
       "      <td>0</td>\n",
       "      <td>0</td>\n",
       "    </tr>\n",
       "    <tr>\n",
       "      <th>2</th>\n",
       "      <td>2</td>\n",
       "      <td>11</td>\n",
       "      <td>988165</td>\n",
       "      <td>/5KmscR49WkmuPJKjmK4OUmsRn5C.jpg</td>\n",
       "      <td>False</td>\n",
       "      <td>Decidido a demostrar la posibilidad de dimensi...</td>\n",
       "      <td>2022-06-29</td>\n",
       "      <td>27</td>\n",
       "      <td>H.P. Lovecraft's Witch House</td>\n",
       "      <td>en</td>\n",
       "      <td>...</td>\n",
       "      <td>0</td>\n",
       "      <td>0</td>\n",
       "      <td>0</td>\n",
       "      <td>0</td>\n",
       "      <td>0</td>\n",
       "      <td>0</td>\n",
       "      <td>0</td>\n",
       "      <td>0</td>\n",
       "      <td>0</td>\n",
       "      <td>1</td>\n",
       "    </tr>\n",
       "    <tr>\n",
       "      <th>3</th>\n",
       "      <td>3</td>\n",
       "      <td>12</td>\n",
       "      <td>829410</td>\n",
       "      <td>/nBgxSimgLMGYCQckRQw7C2f7row.jpg</td>\n",
       "      <td>False</td>\n",
       "      <td>Durante la pandemia, Parker y su mejor amigo d...</td>\n",
       "      <td>2022-09-24</td>\n",
       "      <td>27-53</td>\n",
       "      <td>Sick</td>\n",
       "      <td>en</td>\n",
       "      <td>...</td>\n",
       "      <td>0</td>\n",
       "      <td>0</td>\n",
       "      <td>0</td>\n",
       "      <td>0</td>\n",
       "      <td>1</td>\n",
       "      <td>0</td>\n",
       "      <td>0</td>\n",
       "      <td>0</td>\n",
       "      <td>0</td>\n",
       "      <td>1</td>\n",
       "    </tr>\n",
       "    <tr>\n",
       "      <th>4</th>\n",
       "      <td>4</td>\n",
       "      <td>13</td>\n",
       "      <td>676547</td>\n",
       "      <td>/hbtJK32km46jTmlvBXgR8SunfAp.jpg</td>\n",
       "      <td>False</td>\n",
       "      <td>Una joven monja, la hermana Ann (Jacqueline By...</td>\n",
       "      <td>2022-10-28</td>\n",
       "      <td>27-53</td>\n",
       "      <td>Prey for the Devil</td>\n",
       "      <td>en</td>\n",
       "      <td>...</td>\n",
       "      <td>0</td>\n",
       "      <td>0</td>\n",
       "      <td>0</td>\n",
       "      <td>0</td>\n",
       "      <td>1</td>\n",
       "      <td>0</td>\n",
       "      <td>0</td>\n",
       "      <td>0</td>\n",
       "      <td>0</td>\n",
       "      <td>1</td>\n",
       "    </tr>\n",
       "    <tr>\n",
       "      <th>...</th>\n",
       "      <td>...</td>\n",
       "      <td>...</td>\n",
       "      <td>...</td>\n",
       "      <td>...</td>\n",
       "      <td>...</td>\n",
       "      <td>...</td>\n",
       "      <td>...</td>\n",
       "      <td>...</td>\n",
       "      <td>...</td>\n",
       "      <td>...</td>\n",
       "      <td>...</td>\n",
       "      <td>...</td>\n",
       "      <td>...</td>\n",
       "      <td>...</td>\n",
       "      <td>...</td>\n",
       "      <td>...</td>\n",
       "      <td>...</td>\n",
       "      <td>...</td>\n",
       "      <td>...</td>\n",
       "      <td>...</td>\n",
       "      <td>...</td>\n",
       "    </tr>\n",
       "    <tr>\n",
       "      <th>6508</th>\n",
       "      <td>6508</td>\n",
       "      <td>9994</td>\n",
       "      <td>636900</td>\n",
       "      <td>/sPlGqCLrXcVzTNeO6IFkm2gwr3T.jpg</td>\n",
       "      <td>False</td>\n",
       "      <td>NaN</td>\n",
       "      <td>2019-10-30</td>\n",
       "      <td>27</td>\n",
       "      <td>A Halloween Trick</td>\n",
       "      <td>en</td>\n",
       "      <td>...</td>\n",
       "      <td>0</td>\n",
       "      <td>0</td>\n",
       "      <td>0</td>\n",
       "      <td>0</td>\n",
       "      <td>0</td>\n",
       "      <td>0</td>\n",
       "      <td>0</td>\n",
       "      <td>0</td>\n",
       "      <td>0</td>\n",
       "      <td>4</td>\n",
       "    </tr>\n",
       "    <tr>\n",
       "      <th>6509</th>\n",
       "      <td>6509</td>\n",
       "      <td>9995</td>\n",
       "      <td>628959</td>\n",
       "      <td>/cAhJi03mtZAEq0IC6yK2BdirHBB.jpg</td>\n",
       "      <td>False</td>\n",
       "      <td>NaN</td>\n",
       "      <td>2019-10-05</td>\n",
       "      <td>27</td>\n",
       "      <td>Lady Belladonna's Tales From The Inferno</td>\n",
       "      <td>en</td>\n",
       "      <td>...</td>\n",
       "      <td>0</td>\n",
       "      <td>0</td>\n",
       "      <td>0</td>\n",
       "      <td>0</td>\n",
       "      <td>0</td>\n",
       "      <td>0</td>\n",
       "      <td>0</td>\n",
       "      <td>0</td>\n",
       "      <td>0</td>\n",
       "      <td>4</td>\n",
       "    </tr>\n",
       "    <tr>\n",
       "      <th>6510</th>\n",
       "      <td>6510</td>\n",
       "      <td>9996</td>\n",
       "      <td>627132</td>\n",
       "      <td>/cZW9GfXBb4cWj53cpnfTsqqclH3.jpg</td>\n",
       "      <td>False</td>\n",
       "      <td>NaN</td>\n",
       "      <td>2012-10-30</td>\n",
       "      <td>27-53</td>\n",
       "      <td>Fade Into You</td>\n",
       "      <td>en</td>\n",
       "      <td>...</td>\n",
       "      <td>0</td>\n",
       "      <td>0</td>\n",
       "      <td>0</td>\n",
       "      <td>0</td>\n",
       "      <td>1</td>\n",
       "      <td>0</td>\n",
       "      <td>0</td>\n",
       "      <td>0</td>\n",
       "      <td>0</td>\n",
       "      <td>11</td>\n",
       "    </tr>\n",
       "    <tr>\n",
       "      <th>6511</th>\n",
       "      <td>6511</td>\n",
       "      <td>9997</td>\n",
       "      <td>623670</td>\n",
       "      <td>/fk4eaKL5ilNY4x2PFrievUW7obf.jpg</td>\n",
       "      <td>False</td>\n",
       "      <td>NaN</td>\n",
       "      <td>2018-06-25</td>\n",
       "      <td>27-878</td>\n",
       "      <td>Hippopotamus</td>\n",
       "      <td>en</td>\n",
       "      <td>...</td>\n",
       "      <td>0</td>\n",
       "      <td>0</td>\n",
       "      <td>0</td>\n",
       "      <td>0</td>\n",
       "      <td>0</td>\n",
       "      <td>0</td>\n",
       "      <td>1</td>\n",
       "      <td>0</td>\n",
       "      <td>0</td>\n",
       "      <td>5</td>\n",
       "    </tr>\n",
       "    <tr>\n",
       "      <th>6512</th>\n",
       "      <td>6512</td>\n",
       "      <td>9999</td>\n",
       "      <td>617208</td>\n",
       "      <td>/5phrpY22CAtIF8VmmNXRg5aifIw.jpg</td>\n",
       "      <td>False</td>\n",
       "      <td>NaN</td>\n",
       "      <td>2019-07-16</td>\n",
       "      <td>27</td>\n",
       "      <td>Charlotte: The Return</td>\n",
       "      <td>en</td>\n",
       "      <td>...</td>\n",
       "      <td>0</td>\n",
       "      <td>0</td>\n",
       "      <td>0</td>\n",
       "      <td>0</td>\n",
       "      <td>0</td>\n",
       "      <td>0</td>\n",
       "      <td>0</td>\n",
       "      <td>0</td>\n",
       "      <td>0</td>\n",
       "      <td>4</td>\n",
       "    </tr>\n",
       "  </tbody>\n",
       "</table>\n",
       "<p>6513 rows × 46 columns</p>\n",
       "</div>"
      ],
      "text/plain": [
       "      Unnamed: 0.1  Unnamed: 0       id                       poster_path  \\\n",
       "0                0           9  1011679  /v5CfpzxoJDkZxjZAizClFdlEF0U.jpg   \n",
       "1                1          10   884184  /yQTRmPzKAdLodknnPVtImm6FWPZ.jpg   \n",
       "2                2          11   988165  /5KmscR49WkmuPJKjmK4OUmsRn5C.jpg   \n",
       "3                3          12   829410  /nBgxSimgLMGYCQckRQw7C2f7row.jpg   \n",
       "4                4          13   676547  /hbtJK32km46jTmlvBXgR8SunfAp.jpg   \n",
       "...            ...         ...      ...                               ...   \n",
       "6508          6508        9994   636900  /sPlGqCLrXcVzTNeO6IFkm2gwr3T.jpg   \n",
       "6509          6509        9995   628959  /cAhJi03mtZAEq0IC6yK2BdirHBB.jpg   \n",
       "6510          6510        9996   627132  /cZW9GfXBb4cWj53cpnfTsqqclH3.jpg   \n",
       "6511          6511        9997   623670  /fk4eaKL5ilNY4x2PFrievUW7obf.jpg   \n",
       "6512          6512        9999   617208  /5phrpY22CAtIF8VmmNXRg5aifIw.jpg   \n",
       "\n",
       "      adult                                           overview release_date  \\\n",
       "0     False  Hace décadas, la URSS desarrolló tiburones imp...   2022-08-12   \n",
       "1     False  Después del presunto suicidio de su hermano sa...   2023-02-10   \n",
       "2     False  Decidido a demostrar la posibilidad de dimensi...   2022-06-29   \n",
       "3     False  Durante la pandemia, Parker y su mejor amigo d...   2022-09-24   \n",
       "4     False  Una joven monja, la hermana Ann (Jacqueline By...   2022-10-28   \n",
       "...     ...                                                ...          ...   \n",
       "6508  False                                                NaN   2019-10-30   \n",
       "6509  False                                                NaN   2019-10-05   \n",
       "6510  False                                                NaN   2012-10-30   \n",
       "6511  False                                                NaN   2018-06-25   \n",
       "6512  False                                                NaN   2019-07-16   \n",
       "\n",
       "         genre_ids                            original_title  \\\n",
       "0     28-878-53-27                    Shark Side of the Moon   \n",
       "1            27-53                              Consecration   \n",
       "2               27              H.P. Lovecraft's Witch House   \n",
       "3            27-53                                      Sick   \n",
       "4            27-53                        Prey for the Devil   \n",
       "...            ...                                       ...   \n",
       "6508            27                         A Halloween Trick   \n",
       "6509            27  Lady Belladonna's Tales From The Inferno   \n",
       "6510         27-53                             Fade Into You   \n",
       "6511        27-878                              Hippopotamus   \n",
       "6512            27                     Charlotte: The Return   \n",
       "\n",
       "     original_language  ... Acción Comedia  Historia  Western  Suspense  \\\n",
       "0                   en  ...      1       0         0        0         1   \n",
       "1                   en  ...      0       0         0        0         1   \n",
       "2                   en  ...      0       0         0        0         0   \n",
       "3                   en  ...      0       0         0        0         1   \n",
       "4                   en  ...      0       0         0        0         1   \n",
       "...                ...  ...    ...     ...       ...      ...       ...   \n",
       "6508                en  ...      0       0         0        0         0   \n",
       "6509                en  ...      0       0         0        0         0   \n",
       "6510                en  ...      0       0         0        0         1   \n",
       "6511                en  ...      0       0         0        0         0   \n",
       "6512                en  ...      0       0         0        0         0   \n",
       "\n",
       "      Crimen Ciencia ficción  Misterio  Documental  reciente  \n",
       "0          0               1         0           0         1  \n",
       "1          0               0         0           0         0  \n",
       "2          0               0         0           0         1  \n",
       "3          0               0         0           0         1  \n",
       "4          0               0         0           0         1  \n",
       "...      ...             ...       ...         ...       ...  \n",
       "6508       0               0         0           0         4  \n",
       "6509       0               0         0           0         4  \n",
       "6510       0               0         0           0        11  \n",
       "6511       0               1         0           0         5  \n",
       "6512       0               0         0           0         4  \n",
       "\n",
       "[6513 rows x 46 columns]"
      ]
     },
     "execution_count": 47,
     "metadata": {},
     "output_type": "execute_result"
    }
   ],
   "source": [
    "dataframe = pd.read_csv(\"../data/clean_dataset_terror_movies.csv\")\n",
    "dataframe"
   ]
  },
  {
   "cell_type": "code",
   "execution_count": 148,
   "metadata": {},
   "outputs": [],
   "source": [
    "terror_comedia = dataframe[dataframe[\"is_terror_comedia\"] == 1][[\"val_count\",  \"popularity\", \"vote_count\",   'vote_average', 'budget', 'duration', 'revenues',  'quantile',  \"reciente\"]]"
   ]
  },
  {
   "cell_type": "code",
   "execution_count": 152,
   "metadata": {},
   "outputs": [
    {
     "data": {
      "text/plain": [
       "[1068.0, 451.66, 29.0, 6.6, 0.0, 90.0, 0.0, 1.0, 0.0]"
      ]
     },
     "execution_count": 152,
     "metadata": {},
     "output_type": "execute_result"
    }
   ],
   "source": [
    "terror_comedia.iloc[1,:].to_list()"
   ]
  },
  {
   "cell_type": "code",
   "execution_count": 48,
   "metadata": {},
   "outputs": [
    {
     "data": {
      "text/plain": [
       "Index(['Unnamed: 0.1', 'Unnamed: 0', 'id', 'poster_path', 'adult', 'overview',\n",
       "       'release_date', 'genre_ids', 'original_title', 'original_language',\n",
       "       'title', 'backdrop_path', 'popularity', 'vote_count', 'video',\n",
       "       'vote_average', 'media_type', 'budget', 'duration', 'revenues',\n",
       "       'spoken_languagess', 'genre_list', 'is_terror_comedia', 'val_count',\n",
       "       'quantile', 'count_labels', 'Música', 'Romance', 'Familia', 'Bélica',\n",
       "       'Película de TV', 'Aventura', 'Fantasía', 'Animación', 'Drama',\n",
       "       'Terror', 'Acción', 'Comedia', 'Historia', 'Western', 'Suspense',\n",
       "       'Crimen', 'Ciencia ficción', 'Misterio', 'Documental', 'reciente'],\n",
       "      dtype='object')"
      ]
     },
     "execution_count": 48,
     "metadata": {},
     "output_type": "execute_result"
    }
   ],
   "source": [
    "dataframe.columns"
   ]
  },
  {
   "cell_type": "code",
   "execution_count": 49,
   "metadata": {},
   "outputs": [],
   "source": [
    "#dataframe = dataframe[[\"id\", \"genre_list\", \"popularity\"]]\n",
    "#dataframe\n"
   ]
  },
  {
   "cell_type": "code",
   "execution_count": 50,
   "metadata": {},
   "outputs": [
    {
     "data": {
      "text/plain": [
       "(6513, 9)"
      ]
     },
     "execution_count": 50,
     "metadata": {},
     "output_type": "execute_result"
    }
   ],
   "source": [
    "X = np.array(dataframe[[\"val_count\",  \"popularity\", \"vote_count\",   'vote_average', 'budget', 'duration', 'revenues',  'quantile',  \"reciente\"]])\n",
    "Y = np.array(dataframe['is_terror_comedia'])\n",
    "X.shape"
   ]
  },
  {
   "cell_type": "code",
   "execution_count": 95,
   "metadata": {},
   "outputs": [
    {
     "data": {
      "text/plain": [
       "(6513, 9)"
      ]
     },
     "execution_count": 95,
     "metadata": {},
     "output_type": "execute_result"
    }
   ],
   "source": [
    "X = dataframe[[\"val_count\",  \"popularity\", \"vote_count\",   'vote_average', 'budget', 'duration', 'revenues',  'quantile',  \"reciente\"]]\n",
    "Y = dataframe['is_terror_comedia']\n",
    "X.shape"
   ]
  },
  {
   "cell_type": "code",
   "execution_count": 96,
   "metadata": {},
   "outputs": [],
   "source": [
    "seed=42"
   ]
  },
  {
   "cell_type": "code",
   "execution_count": 97,
   "metadata": {},
   "outputs": [],
   "source": [
    "from sklearn.model_selection import train_test_split\n",
    "\n",
    "X_train, X_test, y_train, y_test = train_test_split(X, Y, test_size = 0.33, random_state = 42)"
   ]
  },
  {
   "attachments": {},
   "cell_type": "markdown",
   "metadata": {},
   "source": [
    "Bagging"
   ]
  },
  {
   "cell_type": "code",
   "execution_count": 129,
   "metadata": {},
   "outputs": [],
   "source": [
    "test = X_train.iloc[1,:]"
   ]
  },
  {
   "cell_type": "code",
   "execution_count": 98,
   "metadata": {},
   "outputs": [
    {
     "data": {
      "text/plain": [
       "0.9064849998950306"
      ]
     },
     "execution_count": 98,
     "metadata": {},
     "output_type": "execute_result"
    }
   ],
   "source": [
    "kfold = model_selection.KFold(n_splits=10, shuffle=True)\n",
    "dtc = DecisionTreeClassifier()\n",
    "\n",
    "model = BaggingClassifier(estimator=dtc,\n",
    "                n_estimators = 100,\n",
    "                random_state = 42)\n",
    "\n",
    "bagging = model\n",
    "results_bagg =  model_selection.cross_val_score(model, X_train, y_train, cv=kfold).mean()\n",
    "\n",
    "results_bagg"
   ]
  },
  {
   "cell_type": "markdown",
   "metadata": {},
   "source": []
  },
  {
   "cell_type": "code",
   "execution_count": 99,
   "metadata": {},
   "outputs": [
    {
     "data": {
      "text/plain": [
       "array([0, 1, 1, ..., 0, 1, 0], dtype=int64)"
      ]
     },
     "execution_count": 99,
     "metadata": {},
     "output_type": "execute_result"
    }
   ],
   "source": [
    "model.fit(X,Y)\n",
    "predictions = model.predict(X_test)\n",
    "predictions"
   ]
  },
  {
   "cell_type": "code",
   "execution_count": 100,
   "metadata": {},
   "outputs": [
    {
     "data": {
      "text/plain": [
       "array([[0.08, 0.92],\n",
       "       [0.  , 1.  ],\n",
       "       [1.  , 0.  ],\n",
       "       ...,\n",
       "       [0.  , 1.  ],\n",
       "       [1.  , 0.  ],\n",
       "       [1.  , 0.  ]])"
      ]
     },
     "execution_count": 100,
     "metadata": {},
     "output_type": "execute_result"
    }
   ],
   "source": [
    "predict_probab = model.predict_proba(X)\n",
    "np.round(predict_probab, 2)"
   ]
  },
  {
   "cell_type": "code",
   "execution_count": 101,
   "metadata": {},
   "outputs": [
    {
     "data": {
      "text/plain": [
       "0.8652420061632411"
      ]
     },
     "execution_count": 101,
     "metadata": {},
     "output_type": "execute_result"
    }
   ],
   "source": [
    "results_bagg =  model_selection.cross_val_score(model, X, Y, cv=10).mean()\n",
    "\n",
    "results_bagg"
   ]
  },
  {
   "cell_type": "code",
   "execution_count": 102,
   "metadata": {},
   "outputs": [
    {
     "data": {
      "text/plain": [
       "0.8652420061632411"
      ]
     },
     "execution_count": 102,
     "metadata": {},
     "output_type": "execute_result"
    }
   ],
   "source": [
    "skfold = model_selection.StratifiedKFold(n_splits=10)\n",
    "\n",
    "results_bagg =  model_selection.cross_val_score(model, X, Y, cv=skfold).mean()\n",
    "\n",
    "results_bagg"
   ]
  },
  {
   "cell_type": "code",
   "execution_count": 103,
   "metadata": {},
   "outputs": [
    {
     "data": {
      "text/plain": [
       "array([0.7101227 , 0.75      , 0.81441718, 0.86789555, 0.87864823,\n",
       "       0.94623656, 0.92933948, 0.92780338, 0.92780338, 0.90015361])"
      ]
     },
     "execution_count": 103,
     "metadata": {},
     "output_type": "execute_result"
    }
   ],
   "source": [
    "model_selection.cross_val_score(model, X, Y, cv=10)"
   ]
  },
  {
   "attachments": {},
   "cell_type": "markdown",
   "metadata": {},
   "source": [
    "## 4. Random Forest"
   ]
  },
  {
   "cell_type": "code",
   "execution_count": 104,
   "metadata": {},
   "outputs": [
    {
     "data": {
      "text/plain": [
       "0.8732512123947682"
      ]
     },
     "execution_count": 104,
     "metadata": {},
     "output_type": "execute_result"
    }
   ],
   "source": [
    "model = RandomForestClassifier(n_estimators = 100,\n",
    "                max_features = 3,\n",
    "                random_state = 42)\n",
    "\n",
    "results_rf = model_selection.cross_val_score(model, X_train, y_train, cv=10).mean()\n",
    "randomforest = model\n",
    "results_rf"
   ]
  },
  {
   "attachments": {},
   "cell_type": "markdown",
   "metadata": {},
   "source": [
    "## 5. Adaboost"
   ]
  },
  {
   "cell_type": "code",
   "execution_count": 105,
   "metadata": {},
   "outputs": [
    {
     "data": {
      "text/plain": [
       "0.9000692797010474"
      ]
     },
     "execution_count": 105,
     "metadata": {},
     "output_type": "execute_result"
    }
   ],
   "source": [
    "model = AdaBoostClassifier(estimator= DecisionTreeClassifier(max_depth=2),\n",
    "            n_estimators = 30,\n",
    "            random_state = 42)\n",
    "\n",
    "adaboost = model\n",
    "\n",
    "results_ada = model_selection.cross_val_score(model, X_train, y_train, cv=10).mean()\n",
    "results_ada"
   ]
  },
  {
   "attachments": {},
   "cell_type": "markdown",
   "metadata": {},
   "source": [
    "## GradientBoosting"
   ]
  },
  {
   "cell_type": "code",
   "execution_count": 106,
   "metadata": {},
   "outputs": [
    {
     "data": {
      "text/plain": [
       "0.9069437154913611"
      ]
     },
     "execution_count": 106,
     "metadata": {},
     "output_type": "execute_result"
    }
   ],
   "source": [
    "model = GradientBoostingClassifier(n_estimators=100,\n",
    "random_state=seed)\n",
    "\n",
    "results_gb = model_selection.cross_val_score(model, X_train, y_train, cv=10).mean()\n",
    "results_gb"
   ]
  },
  {
   "attachments": {},
   "cell_type": "markdown",
   "metadata": {},
   "source": [
    "## XGBoost"
   ]
  },
  {
   "cell_type": "code",
   "execution_count": 107,
   "metadata": {},
   "outputs": [
    {
     "data": {
      "text/plain": [
       "0.9085528940020573"
      ]
     },
     "execution_count": 107,
     "metadata": {},
     "output_type": "execute_result"
    }
   ],
   "source": [
    "model = XGBClassifier(n_estimators=100,  eval_metric = 'logloss')\n",
    "\n",
    "results_xgb = model_selection.cross_val_score(model, X_train, y_train, cv=10).mean()\n",
    "\n",
    "results_xgb"
   ]
  },
  {
   "cell_type": "code",
   "execution_count": 108,
   "metadata": {},
   "outputs": [
    {
     "data": {
      "text/html": [
       "<style>#sk-container-id-2 {color: black;background-color: white;}#sk-container-id-2 pre{padding: 0;}#sk-container-id-2 div.sk-toggleable {background-color: white;}#sk-container-id-2 label.sk-toggleable__label {cursor: pointer;display: block;width: 100%;margin-bottom: 0;padding: 0.3em;box-sizing: border-box;text-align: center;}#sk-container-id-2 label.sk-toggleable__label-arrow:before {content: \"▸\";float: left;margin-right: 0.25em;color: #696969;}#sk-container-id-2 label.sk-toggleable__label-arrow:hover:before {color: black;}#sk-container-id-2 div.sk-estimator:hover label.sk-toggleable__label-arrow:before {color: black;}#sk-container-id-2 div.sk-toggleable__content {max-height: 0;max-width: 0;overflow: hidden;text-align: left;background-color: #f0f8ff;}#sk-container-id-2 div.sk-toggleable__content pre {margin: 0.2em;color: black;border-radius: 0.25em;background-color: #f0f8ff;}#sk-container-id-2 input.sk-toggleable__control:checked~div.sk-toggleable__content {max-height: 200px;max-width: 100%;overflow: auto;}#sk-container-id-2 input.sk-toggleable__control:checked~label.sk-toggleable__label-arrow:before {content: \"▾\";}#sk-container-id-2 div.sk-estimator input.sk-toggleable__control:checked~label.sk-toggleable__label {background-color: #d4ebff;}#sk-container-id-2 div.sk-label input.sk-toggleable__control:checked~label.sk-toggleable__label {background-color: #d4ebff;}#sk-container-id-2 input.sk-hidden--visually {border: 0;clip: rect(1px 1px 1px 1px);clip: rect(1px, 1px, 1px, 1px);height: 1px;margin: -1px;overflow: hidden;padding: 0;position: absolute;width: 1px;}#sk-container-id-2 div.sk-estimator {font-family: monospace;background-color: #f0f8ff;border: 1px dotted black;border-radius: 0.25em;box-sizing: border-box;margin-bottom: 0.5em;}#sk-container-id-2 div.sk-estimator:hover {background-color: #d4ebff;}#sk-container-id-2 div.sk-parallel-item::after {content: \"\";width: 100%;border-bottom: 1px solid gray;flex-grow: 1;}#sk-container-id-2 div.sk-label:hover label.sk-toggleable__label {background-color: #d4ebff;}#sk-container-id-2 div.sk-serial::before {content: \"\";position: absolute;border-left: 1px solid gray;box-sizing: border-box;top: 0;bottom: 0;left: 50%;z-index: 0;}#sk-container-id-2 div.sk-serial {display: flex;flex-direction: column;align-items: center;background-color: white;padding-right: 0.2em;padding-left: 0.2em;position: relative;}#sk-container-id-2 div.sk-item {position: relative;z-index: 1;}#sk-container-id-2 div.sk-parallel {display: flex;align-items: stretch;justify-content: center;background-color: white;position: relative;}#sk-container-id-2 div.sk-item::before, #sk-container-id-2 div.sk-parallel-item::before {content: \"\";position: absolute;border-left: 1px solid gray;box-sizing: border-box;top: 0;bottom: 0;left: 50%;z-index: -1;}#sk-container-id-2 div.sk-parallel-item {display: flex;flex-direction: column;z-index: 1;position: relative;background-color: white;}#sk-container-id-2 div.sk-parallel-item:first-child::after {align-self: flex-end;width: 50%;}#sk-container-id-2 div.sk-parallel-item:last-child::after {align-self: flex-start;width: 50%;}#sk-container-id-2 div.sk-parallel-item:only-child::after {width: 0;}#sk-container-id-2 div.sk-dashed-wrapped {border: 1px dashed gray;margin: 0 0.4em 0.5em 0.4em;box-sizing: border-box;padding-bottom: 0.4em;background-color: white;}#sk-container-id-2 div.sk-label label {font-family: monospace;font-weight: bold;display: inline-block;line-height: 1.2em;}#sk-container-id-2 div.sk-label-container {text-align: center;}#sk-container-id-2 div.sk-container {/* jupyter's `normalize.less` sets `[hidden] { display: none; }` but bootstrap.min.css set `[hidden] { display: none !important; }` so we also need the `!important` here to be able to override the default hidden behavior on the sphinx rendered scikit-learn.org. See: https://github.com/scikit-learn/scikit-learn/issues/21755 */display: inline-block !important;position: relative;}#sk-container-id-2 div.sk-text-repr-fallback {display: none;}</style><div id=\"sk-container-id-2\" class=\"sk-top-container\"><div class=\"sk-text-repr-fallback\"><pre>XGBClassifier(base_score=None, booster=None, callbacks=None,\n",
       "              colsample_bylevel=None, colsample_bynode=None,\n",
       "              colsample_bytree=None, early_stopping_rounds=None,\n",
       "              enable_categorical=False, eval_metric=&#x27;logloss&#x27;,\n",
       "              feature_types=None, gamma=None, gpu_id=None, grow_policy=None,\n",
       "              importance_type=None, interaction_constraints=None,\n",
       "              learning_rate=None, max_bin=None, max_cat_threshold=None,\n",
       "              max_cat_to_onehot=None, max_delta_step=None, max_depth=None,\n",
       "              max_leaves=None, min_child_weight=None, missing=nan,\n",
       "              monotone_constraints=None, n_estimators=100, n_jobs=None,\n",
       "              num_parallel_tree=None, predictor=None, random_state=None, ...)</pre><b>In a Jupyter environment, please rerun this cell to show the HTML representation or trust the notebook. <br />On GitHub, the HTML representation is unable to render, please try loading this page with nbviewer.org.</b></div><div class=\"sk-container\" hidden><div class=\"sk-item\"><div class=\"sk-estimator sk-toggleable\"><input class=\"sk-toggleable__control sk-hidden--visually\" id=\"sk-estimator-id-2\" type=\"checkbox\" checked><label for=\"sk-estimator-id-2\" class=\"sk-toggleable__label sk-toggleable__label-arrow\">XGBClassifier</label><div class=\"sk-toggleable__content\"><pre>XGBClassifier(base_score=None, booster=None, callbacks=None,\n",
       "              colsample_bylevel=None, colsample_bynode=None,\n",
       "              colsample_bytree=None, early_stopping_rounds=None,\n",
       "              enable_categorical=False, eval_metric=&#x27;logloss&#x27;,\n",
       "              feature_types=None, gamma=None, gpu_id=None, grow_policy=None,\n",
       "              importance_type=None, interaction_constraints=None,\n",
       "              learning_rate=None, max_bin=None, max_cat_threshold=None,\n",
       "              max_cat_to_onehot=None, max_delta_step=None, max_depth=None,\n",
       "              max_leaves=None, min_child_weight=None, missing=nan,\n",
       "              monotone_constraints=None, n_estimators=100, n_jobs=None,\n",
       "              num_parallel_tree=None, predictor=None, random_state=None, ...)</pre></div></div></div></div></div>"
      ],
      "text/plain": [
       "XGBClassifier(base_score=None, booster=None, callbacks=None,\n",
       "              colsample_bylevel=None, colsample_bynode=None,\n",
       "              colsample_bytree=None, early_stopping_rounds=None,\n",
       "              enable_categorical=False, eval_metric='logloss',\n",
       "              feature_types=None, gamma=None, gpu_id=None, grow_policy=None,\n",
       "              importance_type=None, interaction_constraints=None,\n",
       "              learning_rate=None, max_bin=None, max_cat_threshold=None,\n",
       "              max_cat_to_onehot=None, max_delta_step=None, max_depth=None,\n",
       "              max_leaves=None, min_child_weight=None, missing=nan,\n",
       "              monotone_constraints=None, n_estimators=100, n_jobs=None,\n",
       "              num_parallel_tree=None, predictor=None, random_state=None, ...)"
      ]
     },
     "execution_count": 108,
     "metadata": {},
     "output_type": "execute_result"
    }
   ],
   "source": [
    "model.fit(X_train, y_train)"
   ]
  },
  {
   "cell_type": "code",
   "execution_count": 109,
   "metadata": {},
   "outputs": [
    {
     "data": {
      "text/plain": [
       "val_count       0.639669\n",
       "vote_count      0.065408\n",
       "duration        0.053690\n",
       "vote_average    0.051911\n",
       "revenues        0.049978\n",
       "budget          0.049112\n",
       "popularity      0.047821\n",
       "reciente        0.042411\n",
       "quantile        0.000000\n",
       "dtype: float32"
      ]
     },
     "execution_count": 109,
     "metadata": {},
     "output_type": "execute_result"
    }
   ],
   "source": [
    "feature_scores = pd.Series(model.feature_importances_,index=X_train.columns).sort_values(ascending=False)\n",
    "\n",
    "feature_scores"
   ]
  },
  {
   "attachments": {},
   "cell_type": "markdown",
   "metadata": {},
   "source": [
    "## Resultados"
   ]
  },
  {
   "cell_type": "code",
   "execution_count": 118,
   "metadata": {},
   "outputs": [
    {
     "data": {
      "text/plain": [
       "XGBoost             0.908553\n",
       "GradientBoosting    0.906944\n",
       "Bagging DT          0.905137\n",
       "Ada Boost           0.900069\n",
       "Random Forest       0.873251\n",
       "dtype: float64"
      ]
     },
     "execution_count": 118,
     "metadata": {},
     "output_type": "execute_result"
    }
   ],
   "source": [
    "resultados = [results_bagg, results_rf, results_ada, results_gb, results_xgb]\n",
    "algoritmos = [\"Bagging DT\", \"Random Forest\", \"Ada Boost\", \"GradientBoosting\", \"XGBoost\"]\n",
    "\n",
    "result = pd.Series(resultados, algoritmos).sort_values(ascending=False)\n",
    "result"
   ]
  },
  {
   "cell_type": "code",
   "execution_count": 116,
   "metadata": {},
   "outputs": [],
   "source": [
    "import matplotlib.pyplot as plt\n",
    "%matplotlib inline"
   ]
  },
  {
   "cell_type": "code",
   "execution_count": 119,
   "metadata": {},
   "outputs": [
    {
     "data": {
      "image/png": "[encoded data removed]",
      "text/plain": [
       "<Figure size 640x480 with 1 Axes>"
      ]
     },
     "metadata": {},
     "output_type": "display_data"
    }
   ],
   "source": [
    "sns.barplot(x=feature_scores, y=feature_scores.index)\n",
    "\n",
    "# Add labels to the graph\n",
    "plt.xlabel('Feature Importance Score')\n",
    "plt.ylabel('Features')\n",
    "\n",
    "# Add title to the graph\n",
    "plt.title(\"Visualizing Important Features\")\n",
    "\n",
    "# Visualize the graph\n",
    "plt.show()"
   ]
  },
  {
   "cell_type": "code",
   "execution_count": 124,
   "metadata": {},
   "outputs": [
    {
     "data": {
      "text/plain": [
       "[2571.0, 5.612, 80.0, 4.3, 0.0, 70.0, 0.0, 3.0, 22.0]"
      ]
     },
     "execution_count": 124,
     "metadata": {},
     "output_type": "execute_result"
    }
   ],
   "source": [
    "X_train.iloc[1,:].to_list()"
   ]
  },
  {
   "cell_type": "code",
   "execution_count": 142,
   "metadata": {},
   "outputs": [
    {
     "data": {
      "text/plain": [
       "val_count         int64\n",
       "popularity      float64\n",
       "vote_count        int64\n",
       "vote_average    float64\n",
       "budget            int64\n",
       "duration          int64\n",
       "revenues          int64\n",
       "quantile          int64\n",
       "reciente          int64\n",
       "dtype: object"
      ]
     },
     "execution_count": 142,
     "metadata": {},
     "output_type": "execute_result"
    }
   ],
   "source": [
    "X_train.dtypes"
   ]
  },
  {
   "cell_type": "code",
   "execution_count": 159,
   "metadata": {},
   "outputs": [
    {
     "data": {
      "text/plain": [
       "array([1])"
      ]
     },
     "execution_count": 159,
     "metadata": {},
     "output_type": "execute_result"
    }
   ],
   "source": [
    "model = XGBClassifier(n_estimators=100,  eval_metric = 'logloss')\n",
    "\n",
    "model.fit(X_train,y_train)\n",
    "#X_nueva = np.array([[2571, 5.612, 80, 4.3, 0, 70, 0, 3, 22]])\n",
    "X_nueva = np.array([[1068, 451.66, 29, 6.6, 0, 90, 0, 1, 0]])\n",
    "model.predict(X_nueva)\n"
   ]
  },
  {
   "attachments": {},
   "cell_type": "markdown",
   "metadata": {},
   "source": [
    "Aplicar el modelo XGBClassifier con las features seleccionadas"
   ]
  },
  {
   "cell_type": "code",
   "execution_count": 160,
   "metadata": {},
   "outputs": [
    {
     "data": {
      "text/plain": [
       "(6513, 7)"
      ]
     },
     "execution_count": 160,
     "metadata": {},
     "output_type": "execute_result"
    }
   ],
   "source": [
    "X = dataframe[[\"val_count\",  \"popularity\", \"vote_count\",   'vote_average', 'budget', 'duration', 'revenues']]\n",
    "Y = dataframe['is_terror_comedia']\n",
    "X.shape"
   ]
  },
  {
   "cell_type": "code",
   "execution_count": 161,
   "metadata": {},
   "outputs": [],
   "source": [
    "seed=42"
   ]
  },
  {
   "cell_type": "code",
   "execution_count": 162,
   "metadata": {},
   "outputs": [],
   "source": [
    "from sklearn.model_selection import train_test_split\n",
    "\n",
    "X_train, X_test, y_train, y_test = train_test_split(X, Y, test_size = 0.33, random_state = 42)"
   ]
  },
  {
   "cell_type": "code",
   "execution_count": null,
   "metadata": {},
   "outputs": [],
   "source": [
    "model = XGBClassifier(n_estimators=100,  eval_metric = 'logloss')\n",
    "\n",
    "model.fit(X_train,y_train)\n",
    "#X_nueva = np.array([[2571, 5.612, 80, 4.3, 0, 70, 0, 3, 22]])\n",
    "X_nueva = np.array([[1068, 451.66, 29, 6.6, 0, 90, 0, 1, 0]])\n",
    "model.predict(X_nueva)"
   ]
  },
  {
   "cell_type": "code",
   "execution_count": 164,
   "metadata": {},
   "outputs": [
    {
     "name": "stdout",
     "output_type": "stream",
     "text": [
      "Model accuracy score with doors variable removed : 0.9126\n"
     ]
    }
   ],
   "source": [
    "from sklearn.metrics import accuracy_score\n",
    "# fit the model to the training set\n",
    "\n",
    "model.fit(X_train, y_train)\n",
    "\n",
    "\n",
    "# Predict on the test set results\n",
    "\n",
    "y_pred = model.predict(X_test)\n",
    "\n",
    "# Check accuracy score \n",
    "\n",
    "print('Resultado del modelo sin dos columnas : {0:0.4f}'. format(accuracy_score(y_test, y_pred)))"
   ]
  }
 ],
 "metadata": {
  "kernelspec": {
   "display_name": "Python 3",
   "language": "python",
   "name": "python3"
  },
  "language_info": {
   "codemirror_mode": {
    "name": "ipython",
    "version": 3
   },
   "file_extension": ".py",
   "mimetype": "text/x-python",
   "name": "python",
   "nbconvert_exporter": "python",
   "pygments_lexer": "ipython3",
   "version": "3.9.2"
  },
  "orig_nbformat": 4
 },
 "nbformat": 4,
 "nbformat_minor": 2
}
